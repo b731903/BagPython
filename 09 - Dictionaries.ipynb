{
 "cells": [
  {
   "cell_type": "markdown",
   "id": "e1f26892",
   "metadata": {},
   "source": [
    "# Dictionaries\n",
    "\n",
    "The dictionary is another data structure that can be used in Python code and is analagous to maps in other programming languages. A dictionary can store many values like a list, but instead of using numbered indexes to access data, it uses keys. Keys are most often strings, but they can be any type of Python object (e.g.: number, string, list, another dictionary). Each key and value pair is often referred to as an item. Here is an example of a dictionary:"
   ]
  },
  {
   "cell_type": "code",
   "execution_count": null,
   "id": "61cbb479",
   "metadata": {},
   "outputs": [],
   "source": [
    "person = {\n",
    "    'name': 'Linus Torvalds',\n",
    "    'occupation': 'Software Engineer',\n",
    "    'birthday': 'December 28, 1969',\n",
    "}\n",
    "\n",
    "print(person)"
   ]
  },
  {
   "cell_type": "markdown",
   "id": "ad4d8f0c",
   "metadata": {},
   "source": [
    "## Creating Dictionaries\n",
    "\n",
    "Dictionaries are most often created using the literal syntax with braces `{}` and a list of key-value pairs like in the example above. The built-in `dict` function can also be used to create a dictionary in one of two ways. First, if the keys are strings, keyword arguments can be used like so:"
   ]
  },
  {
   "cell_type": "code",
   "execution_count": null,
   "id": "55148ef9",
   "metadata": {},
   "outputs": [],
   "source": [
    "# Animal populations\n",
    "animal_populations = dict(\n",
    "    lion=23_000,\n",
    "    giraffe=117_000,\n",
    "    elephant=415_000,\n",
    "    black_rhino=5_000,\n",
    ")\n",
    "print(animal_populations)"
   ]
  },
  {
   "cell_type": "markdown",
   "id": "c69c7daa",
   "metadata": {},
   "source": [
    "Alternatively, `dict` function can also take a list of key-value pairs like so:"
   ]
  },
  {
   "cell_type": "code",
   "execution_count": null,
   "id": "72ef37c7",
   "metadata": {},
   "outputs": [],
   "source": [
    "# Animal populations\n",
    "animal_populations = dict([('lion', 23_000), ('giraffe', 117_000), ('elephant', 415_000), ('black_rhino', 5_000)])\n",
    "print(animal_populations)"
   ]
  },
  {
   "cell_type": "markdown",
   "id": "c5987c31",
   "metadata": {},
   "source": [
    "Keys do not need to be strings, they can be any object:"
   ]
  },
  {
   "cell_type": "code",
   "execution_count": null,
   "id": "bb0e9292",
   "metadata": {},
   "outputs": [],
   "source": [
    "# The built-in datetime module contains objects for storing dates\n",
    "import datetime as dt\n",
    "\n",
    "# Forecast temperature by date\n",
    "forecast = {\n",
    "    dt.date(2021, 10, 19): 9,\n",
    "    dt.date(2021, 10, 20): 15,\n",
    "    dt.date(2021, 10, 21): 17,\n",
    "    dt.date(2021, 10, 22): 19,\n",
    "    dt.date(2021, 10, 23): 16,\n",
    "}\n",
    "\n",
    "print(forecast)"
   ]
  },
  {
   "cell_type": "markdown",
   "id": "ccb9584b",
   "metadata": {},
   "source": [
    "## Accessing Values\n",
    "\n",
    "Values in dictionaries are accessed using the key in square brackets `[]`:"
   ]
  },
  {
   "cell_type": "code",
   "execution_count": null,
   "id": "1a6c205f",
   "metadata": {},
   "outputs": [],
   "source": [
    "person = {\n",
    "    'name': 'Steve Jobs',\n",
    "    'occupation': 'Businessman',\n",
    "    'birthday': 'February 24, 1955',\n",
    "}\n",
    "\n",
    "print(person['name'])\n",
    "print(person['occupation'])\n",
    "print(person['birthday'])"
   ]
  },
  {
   "cell_type": "markdown",
   "id": "b0869fa9",
   "metadata": {},
   "source": [
    "## Adding Items\n",
    "\n",
    "Items are added using the square bracket notation and the assigment operator (`=`):"
   ]
  },
  {
   "cell_type": "code",
   "execution_count": null,
   "id": "867665c2",
   "metadata": {},
   "outputs": [],
   "source": [
    "# Create an empty dictionary like so:\n",
    "person = {}\n",
    "\n",
    "# If a key does not exist, it will be added\n",
    "person['name'] = 'Albert Einstein'\n",
    "person['occupation'] = 'Physicist'\n",
    "person['birthday'] = 'March 14, 1879'\n",
    "\n",
    "print(person)"
   ]
  },
  {
   "cell_type": "markdown",
   "id": "95193744",
   "metadata": {},
   "source": [
    "## Updating Items\n",
    "\n",
    "Items in a dictionary are updated using the same notation as adding:"
   ]
  },
  {
   "cell_type": "code",
   "execution_count": null,
   "id": "ca657042",
   "metadata": {},
   "outputs": [],
   "source": [
    "person = {\n",
    "    'name': 'Brandon Sanderson',\n",
    "    'occupation': 'Student',\n",
    "    'Birthday': 'December 19, 1975'\n",
    "}\n",
    "\n",
    "print(person)\n",
    "\n",
    "# Update values using the key\n",
    "person['occupation'] = 'Author'\n",
    "\n",
    "print(person)"
   ]
  },
  {
   "cell_type": "markdown",
   "id": "aaddfd61",
   "metadata": {},
   "source": [
    "## Removing Items\n",
    "\n",
    "Items can be removed from a dictionary using the `del` operator:"
   ]
  },
  {
   "cell_type": "code",
   "execution_count": null,
   "id": "59aabbb1",
   "metadata": {},
   "outputs": [],
   "source": [
    "animal_populations = dict(\n",
    "    lion=23_000,\n",
    "    giraffe=117_000,\n",
    "    elephant=415_000,\n",
    "    black_rhino=5_000,\n",
    ")\n",
    "\n",
    "del animal_populations['lion']\n",
    "\n",
    "print(animal_populations)"
   ]
  },
  {
   "cell_type": "markdown",
   "id": "431f2193",
   "metadata": {},
   "source": [
    "## The `keys` Method\n",
    "\n",
    "The `keys` method can be used to get a list of keys:"
   ]
  },
  {
   "cell_type": "code",
   "execution_count": null,
   "id": "649708ff",
   "metadata": {},
   "outputs": [],
   "source": [
    "animal_populations = dict(\n",
    "    lion=23_000,\n",
    "    giraffe=117_000,\n",
    "    elephant=415_000,\n",
    "    black_rhino=5_000,\n",
    ")\n",
    "\n",
    "print(animal_populations.keys())"
   ]
  },
  {
   "cell_type": "markdown",
   "id": "c5cabed6",
   "metadata": {},
   "source": [
    "## The `in` Operator\n",
    "\n",
    "The `in` operator can be used to test if a dictionary has a key:"
   ]
  },
  {
   "cell_type": "code",
   "execution_count": null,
   "id": "60c2b6f6",
   "metadata": {},
   "outputs": [],
   "source": [
    "animal_populations = dict(\n",
    "    lion=23_000,\n",
    "    giraffe=117_000,\n",
    "    elephant=415_000,\n",
    "    black_rhino=5_000,\n",
    ")\n",
    "\n",
    "print('giraffe' in animal_populations)\n",
    "print('crocodile' in animal_populations)"
   ]
  },
  {
   "cell_type": "markdown",
   "id": "cab000e6",
   "metadata": {},
   "source": [
    "## Looping and Dictionaries\n",
    "\n",
    "Using `for... in` on a dictionary will loop through the keys of the dictionary:"
   ]
  },
  {
   "cell_type": "code",
   "execution_count": null,
   "id": "3ae0992d",
   "metadata": {},
   "outputs": [],
   "source": [
    "animal_populations = dict(\n",
    "    lion=23_000,\n",
    "    giraffe=117_000,\n",
    "    elephant=415_000,\n",
    "    black_rhino=5_000,\n",
    ")\n",
    "\n",
    "for key in animal_populations:\n",
    "    # The current key is stored in the loop variable\n",
    "    print(key)\n",
    "    \n",
    "    # Use the key to look up the value\n",
    "    print(animal_populations[key])"
   ]
  },
  {
   "cell_type": "markdown",
   "id": "8284bb7f",
   "metadata": {},
   "source": [
    "Use the `items` method to loop through both the keys and values simultaneously:"
   ]
  },
  {
   "cell_type": "code",
   "execution_count": null,
   "id": "9e05fd65",
   "metadata": {},
   "outputs": [],
   "source": [
    "animal_populations = dict(\n",
    "    lion=23_000,\n",
    "    giraffe=117_000,\n",
    "    elephant=415_000,\n",
    "    black_rhino=5_000,\n",
    ")\n",
    "\n",
    "for key, value in animal_populations.items():\n",
    "    # Current key\n",
    "    print(key)\n",
    "    \n",
    "    # Value of the current key\n",
    "    print(value)"
   ]
  },
  {
   "cell_type": "markdown",
   "id": "c767c4f3",
   "metadata": {},
   "source": [
    "# Exercise\n",
    "\n",
    "Do the following:\n",
    "\n",
    "1. Create a contacts dictionary that stores the names of people as the keys and their phone numbers as the values. create the dictionary with three contacts to start with.\n",
    "\n",
    "2. Using code, add a new contact to the contacts dictionary you created in step 1.\n",
    "\n",
    "3. Using code, remove a contact from the contacts dictionary you created in step 1.\n",
    "\n",
    "4. Loop through the keys and values in the dictionary and print them out."
   ]
  },
  {
   "cell_type": "code",
   "execution_count": null,
   "id": "61b00c3a",
   "metadata": {},
   "outputs": [],
   "source": [
    "# 1. Create a dictionary for storing contacts\n",
    "\n",
    "# 2. Add a new contact\n",
    "\n",
    "# 3. Remove a contact\n",
    "\n",
    "# 4. Loop and print\n"
   ]
  }
 ],
 "metadata": {
  "kernelspec": {
   "display_name": "Python 3 (ipykernel)",
   "language": "python",
   "name": "python3"
  },
  "language_info": {
   "codemirror_mode": {
    "name": "ipython",
    "version": 3
   },
   "file_extension": ".py",
   "mimetype": "text/x-python",
   "name": "python",
   "nbconvert_exporter": "python",
   "pygments_lexer": "ipython3",
   "version": "3.8.11"
  }
 },
 "nbformat": 4,
 "nbformat_minor": 5
}
