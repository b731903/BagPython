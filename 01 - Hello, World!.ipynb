{
 "cells": [
  {
   "cell_type": "markdown",
   "id": "0b6b6620",
   "metadata": {},
   "source": [
    "# Hello, World!\n",
    "\n",
    "It is tradition for the first program written in any language to simply write out the phrase \"Hello, World!\". In Python the `print` function can be used to print the given line of text. It even adds a new line at the end of the line so you don't have to! Go ahead and try it yourself:\n"
   ]
  },
  {
   "cell_type": "code",
   "execution_count": null,
   "id": "5e834c33",
   "metadata": {},
   "outputs": [],
   "source": [
    "print(\"Hello, World!\")"
   ]
  },
  {
   "cell_type": "markdown",
   "id": "12f39d9d",
   "metadata": {},
   "source": [
    "# Exercise\n",
    "\n",
    "Try writing a program that prints your favorite quote or mantra."
   ]
  },
  {
   "cell_type": "code",
   "execution_count": null,
   "id": "899e999b",
   "metadata": {},
   "outputs": [],
   "source": [
    "# Write your program here"
   ]
  },
  {
   "cell_type": "markdown",
   "id": "b288851b",
   "metadata": {},
   "source": [
    "Just like that you have written your first program in Python!"
   ]
  }
 ],
 "metadata": {
  "kernelspec": {
   "display_name": "Python 3 (ipykernel)",
   "language": "python",
   "name": "python3"
  },
  "language_info": {
   "codemirror_mode": {
    "name": "ipython",
    "version": 3
   },
   "file_extension": ".py",
   "mimetype": "text/x-python",
   "name": "python",
   "nbconvert_exporter": "python",
   "pygments_lexer": "ipython3",
   "version": "3.8.11"
  }
 },
 "nbformat": 4,
 "nbformat_minor": 5
}
