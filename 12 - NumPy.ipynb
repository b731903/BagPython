{
 "cells": [
  {
   "cell_type": "markdown",
   "metadata": {},
   "source": [
    "# NumPy\n",
    "\n",
    "NumPy is a Python library that aims to provide efficient data arrays for scientific analysis. The Python `list` object can be used for many purposes, but for large arrays, it is very inefficient. NumPy provides and array object called `ndarray` that is up to 50 times more efficient than Python `list` objects.\n",
    "\n",
    "Before you can start working with NumPy it is necessary to import it. It is conventional to import it using the alias `np` as follows:"
   ]
  },
  {
   "cell_type": "code",
   "execution_count": null,
   "metadata": {},
   "outputs": [],
   "source": [
    "import numpy as np"
   ]
  },
  {
   "cell_type": "markdown",
   "metadata": {},
   "source": [
    "Now that NumPy is imported, you can use the `array` function to create an `ndarray`:"
   ]
  },
  {
   "cell_type": "code",
   "execution_count": null,
   "metadata": {},
   "outputs": [],
   "source": [
    "arr = np.array([2, 4, 6, 8, 10])\n",
    "print(arr)\n",
    "print(type(arr))"
   ]
  },
  {
   "cell_type": "markdown",
   "metadata": {},
   "source": [
    "## Multi-dimensional Arrays\n",
    "\n",
    "The \"nd\" in `ndarray` stands for n-dimensional, meaning multi-dimensional arrays.\n",
    "\n",
    "### 0D Array\n",
    "\n",
    "A 0D array is an `ndarray` with a single value."
   ]
  },
  {
   "cell_type": "code",
   "execution_count": null,
   "metadata": {},
   "outputs": [],
   "source": [
    "arr0 = np.array(42)\n",
    "print(arr0)\n",
    "print(type(arr0))"
   ]
  },
  {
   "cell_type": "markdown",
   "metadata": {},
   "source": [
    "### 1D Array\n",
    "\n",
    "A 1D array is an array with a single index, similar to a list"
   ]
  },
  {
   "cell_type": "code",
   "execution_count": null,
   "metadata": {},
   "outputs": [],
   "source": [
    "arr1 = np.array([1, 2, 3, 4, 5])\n",
    "print(arr1)"
   ]
  },
  {
   "cell_type": "markdown",
   "metadata": {},
   "source": [
    "### 2D Array\n",
    "\n",
    "A 2D array is an array of 1D arrays, often conceptualized as a 2D grid."
   ]
  },
  {
   "cell_type": "code",
   "execution_count": null,
   "metadata": {},
   "outputs": [],
   "source": [
    "arr2 = np.array([\n",
    "    [1, 2, 3], \n",
    "    [4, 5, 6]\n",
    "])\n",
    "print(arr2)"
   ]
  },
  {
   "cell_type": "markdown",
   "metadata": {},
   "source": [
    "### 3D Array\n",
    "\n",
    "A 3D array is an array of 2D arrays."
   ]
  },
  {
   "cell_type": "code",
   "execution_count": null,
   "metadata": {},
   "outputs": [],
   "source": [
    "arr3 = np.array([\n",
    "    [[1, 2, 3], \n",
    "     [4, 5, 6]], \n",
    "    [[7, 8, 9], \n",
    "     [10, 11, 12]]\n",
    "])\n",
    "print(arr3)"
   ]
  },
  {
   "cell_type": "markdown",
   "metadata": {},
   "source": [
    "### `ndim`\n",
    "\n",
    "You can check the number dimensions of a `ndarray` using the `ndim` attribute:"
   ]
  },
  {
   "cell_type": "code",
   "execution_count": null,
   "metadata": {},
   "outputs": [],
   "source": [
    "print(arr0.ndim)\n",
    "print(arr1.ndim)\n",
    "print(arr2.ndim)\n",
    "print(arr3.ndim)"
   ]
  },
  {
   "cell_type": "markdown",
   "metadata": {},
   "source": [
    "## Access Values\n",
    "\n",
    "Accessing values in numpy arrays is similar to accessing values in lists. Values are accessed using their index in the array. Like lists, the indexes start with the number `0`. \n",
    "\n",
    "### 1D Array\n",
    "\n",
    "To access values in a 1D array:"
   ]
  },
  {
   "cell_type": "code",
   "execution_count": null,
   "metadata": {},
   "outputs": [],
   "source": [
    "print(arr1)\n",
    "# First value in a 1D array\n",
    "print(arr1[0])"
   ]
  },
  {
   "cell_type": "markdown",
   "metadata": {},
   "source": [
    "### 2D Array\n",
    "\n",
    "Accessing values in arrays with more than one dimension is similar, but a little different:"
   ]
  },
  {
   "cell_type": "code",
   "execution_count": null,
   "metadata": {},
   "outputs": [],
   "source": [
    "print(arr2)\n",
    "\n",
    "# First item in the second row [row, col]\n",
    "print(arr2[1, 0])\n"
   ]
  },
  {
   "cell_type": "markdown",
   "metadata": {},
   "source": [
    "### 3D Array\n",
    "\n",
    "The pattern for accessing items is similar for 3D arrays:"
   ]
  },
  {
   "cell_type": "code",
   "execution_count": null,
   "metadata": {},
   "outputs": [],
   "source": [
    "print(arr3)\n",
    "\n",
    "# First 2D array, second row, third item\n",
    "print(arr3[0, 1, 2])"
   ]
  },
  {
   "cell_type": "markdown",
   "metadata": {},
   "source": [
    "## Slicing ndarrays\n",
    "\n",
    "Slicing syntax can also be used to access portions of values in an `ndarray`:"
   ]
  },
  {
   "cell_type": "code",
   "execution_count": null,
   "metadata": {},
   "outputs": [],
   "source": [
    "# Return all items\n",
    "print(arr1[:])\n",
    "\n",
    "# Access values from index 1 to, but not including, 3\n",
    "print(arr1[1:3])\n",
    "\n",
    "# Access values starting at the beginning to index 3\n",
    "print(arr1[:3])\n",
    "\n",
    "# Access values starting at index 3 to the end of the array\n",
    "print(arr1[3:])\n",
    "\n",
    "# Return everyother element from index 1 to 4\n",
    "print(arr1[1:4:2])"
   ]
  },
  {
   "cell_type": "markdown",
   "metadata": {},
   "source": [
    "Slicing syntax can also be used with multi-dimensional arrays:"
   ]
  },
  {
   "cell_type": "code",
   "execution_count": null,
   "metadata": {},
   "outputs": [],
   "source": [
    "# Return all items\n",
    "print(arr2[:, :])\n",
    "\n",
    "# All items in the first row\n",
    "print(arr2[0, :])\n",
    "\n",
    "# Second item in all rows\n",
    "print(arr2[:, 1])\n",
    "\n",
    "# Items 1 to 3 in second row\n",
    "print(arr2[1, 1:3])"
   ]
  },
  {
   "cell_type": "markdown",
   "metadata": {},
   "source": [
    "Slicing for 3D arrays is similar:"
   ]
  },
  {
   "cell_type": "code",
   "execution_count": null,
   "metadata": {},
   "outputs": [],
   "source": [
    "# Return all items\n",
    "print(arr3[:, :, :])\n",
    "\n",
    "# Items 1 to the end from first row of each 2D array\n",
    "print(arr3[:, 0, 1:])\n",
    "\n",
    "# Items beginning to 2 from second row of the second 2D array\n",
    "print(arr3[1, 1, :2])"
   ]
  },
  {
   "cell_type": "markdown",
   "metadata": {},
   "source": [
    "## NumPy Data Types\n",
    "\n",
    "Data stored in `ndarrays` is converted to numpy data types. NumPy supports the following data types, each named with a single letter:\n",
    "\n",
    "* i - integer\n",
    "* b - boolean\n",
    "* u - unsigned integer\n",
    "* f - float\n",
    "* c - complex float\n",
    "* m - timedelta\n",
    "* M - datetime\n",
    "* O - object\n",
    "* S - string\n",
    "* U - unicode string\n",
    "* V - fixed chunk of memory for other type ( void )\n",
    "\n",
    "Unlike Python `list` objects, `ndarrays` can only store data of a single type. The data type of an array can be viewed using the `dtype` attribute of the array:\n"
   ]
  },
  {
   "cell_type": "code",
   "execution_count": null,
   "metadata": {},
   "outputs": [],
   "source": [
    "int_arr = np.array([10, 20, 30, 40, 50, 60, 70, 80, 90, 100])\n",
    "print(int_arr.dtype)\n",
    "\n",
    "unicode_arr = np.array(['foo', 'bar', 'baz'])\n",
    "print(unicode_arr.dtype)\n",
    "\n",
    "float_arr = np.array([1.1, 1.2, 1.3])\n",
    "print(float_arr.dtype)"
   ]
  },
  {
   "cell_type": "markdown",
   "metadata": {},
   "source": [
    "### Set dtype\n",
    "\n",
    "The `dtype` of an array can be set when creating it using the `dtype` argument."
   ]
  },
  {
   "cell_type": "code",
   "execution_count": null,
   "metadata": {},
   "outputs": [],
   "source": [
    "# Force dtype to be String (S)\n",
    "string_arr = np.array([1, 2, 3, 4, 5], dtype='S')\n",
    "\n",
    "print(string_arr)\n",
    "print(string_arr.dtype)\n",
    "\n",
    "# Create a 4-byte (32-bit) integer typed array\n",
    "int32_arr = np.array([1, 2, 3, 4, 5], dtype='i4')\n",
    "\n",
    "print(int32_arr)\n",
    "print(int32_arr.dtype)"
   ]
  },
  {
   "cell_type": "markdown",
   "metadata": {},
   "source": [
    "### Convert dtype\n",
    "\n",
    "Use the `astype` method to make a copy of the array as a new type:"
   ]
  },
  {
   "cell_type": "code",
   "execution_count": null,
   "metadata": {},
   "outputs": [],
   "source": [
    "int_arr = np.array([0, 1, 2, 3])\n",
    "\n",
    "bool_arr = int_arr.astype(bool)\n",
    "print(bool_arr)\n",
    "print(bool_arr.dtype)"
   ]
  },
  {
   "cell_type": "markdown",
   "metadata": {},
   "source": [
    "## Shape\n",
    "\n",
    "Another important attribute of `ndarray` objects is the `shape` attribute. It indicates the size of each dimension in the array. For example:"
   ]
  },
  {
   "cell_type": "code",
   "execution_count": null,
   "metadata": {},
   "outputs": [],
   "source": [
    "arr = np.array([\n",
    "    [1, 3, 5, 7, 9], \n",
    "    [2, 4, 6, 8, 10], \n",
    "    [11, 13, 15, 17, 19]\n",
    "])\n",
    "\n",
    "print(arr.shape)"
   ]
  },
  {
   "cell_type": "markdown",
   "metadata": {},
   "source": [
    "The shape of the array above is reported as `(3, 5)` which indicates there are 3 arrays, with 5 values each.\n",
    "\n",
    "## Reshape\n",
    "\n",
    "The `reshape` method can be used to create a new array with the specified shape."
   ]
  },
  {
   "cell_type": "code",
   "execution_count": null,
   "metadata": {},
   "outputs": [],
   "source": [
    "# 1D array with 18 values\n",
    "arr = np.array([\n",
    "    1, 2, 3, 4, 5, 6, \n",
    "    7, 8, 9, 10, 11, 12, \n",
    "    13, 14, 15, 16, 17, 18\n",
    "])\n",
    "\n",
    "\n",
    "# Reshape to 3D array\n",
    "reshaped = arr.reshape((3, 2, 3))\n",
    "print(reshaped)"
   ]
  },
  {
   "cell_type": "markdown",
   "metadata": {},
   "source": [
    "In the example above, the 1D array of 18 values is reshaped to a 3D array with 3 2D-arrays, each with 2 rows of 3 values each.\n",
    "\n",
    "## Where\n",
    "\n",
    "The `where` method can be used to search `ndarrays`. It returns a tuple indicating the indexes where the searched for value is located in the array. For example:"
   ]
  },
  {
   "cell_type": "code",
   "execution_count": null,
   "metadata": {},
   "outputs": [],
   "source": [
    "arr = np.array([2, 3, 5, 4, 2, 7, 4, 2, 4, 8])\n",
    "\n",
    "# Find locations of where the value is 2\n",
    "result = np.where(arr == 2)\n",
    "print(result)"
   ]
  },
  {
   "cell_type": "markdown",
   "metadata": {},
   "source": [
    "Other comparison operators can be used as well. For example find the locations of values that are less than 5:"
   ]
  },
  {
   "cell_type": "code",
   "execution_count": null,
   "metadata": {},
   "outputs": [],
   "source": [
    "# Find locations of where the value is less than 5\n",
    "result = np.where(arr < 5)\n",
    "print(result)"
   ]
  },
  {
   "cell_type": "markdown",
   "metadata": {},
   "source": [
    "## Basic Operations\n",
    "\n",
    "Arithmetic operators are performed in an *elementwise* manner. Here are a few examples:"
   ]
  },
  {
   "cell_type": "code",
   "execution_count": null,
   "metadata": {},
   "outputs": [],
   "source": [
    "a = np.array([10, 20, 30, 40])\n",
    "b = np.array([1, 2, 3, 4])\n",
    "\n",
    "a - b"
   ]
  },
  {
   "cell_type": "code",
   "execution_count": null,
   "metadata": {},
   "outputs": [],
   "source": [
    "b**2"
   ]
  },
  {
   "cell_type": "code",
   "execution_count": null,
   "metadata": {},
   "outputs": [],
   "source": [
    "10 * np.sin(a)"
   ]
  },
  {
   "cell_type": "code",
   "execution_count": null,
   "metadata": {},
   "outputs": [],
   "source": [
    "a < 25"
   ]
  },
  {
   "cell_type": "markdown",
   "metadata": {},
   "source": [
    "## Matrix Operations\n",
    "\n",
    "The `*` operator performs an elementwise multiplication, not matrix product in NumPy. Use the `@` operator or the `dot` method to compute the matrix product."
   ]
  },
  {
   "cell_type": "code",
   "execution_count": null,
   "metadata": {},
   "outputs": [],
   "source": [
    "A = np.array([[1, 1], \n",
    "              [0, 1]])\n",
    "B = np.array([[2, 0], \n",
    "              [3, 4]])"
   ]
  },
  {
   "cell_type": "code",
   "execution_count": null,
   "metadata": {},
   "outputs": [],
   "source": [
    "# Elementwise product\n",
    "A * B"
   ]
  },
  {
   "cell_type": "code",
   "execution_count": null,
   "metadata": {},
   "outputs": [],
   "source": [
    "# Matrix product\n",
    "A @ B"
   ]
  },
  {
   "cell_type": "code",
   "execution_count": null,
   "metadata": {
    "scrolled": false
   },
   "outputs": [],
   "source": [
    "# Matrix product\n",
    "A.dot(B)"
   ]
  },
  {
   "cell_type": "markdown",
   "metadata": {},
   "source": [
    "## Statistics Methods\n",
    "\n",
    "NumPy arrays have methods for computing various statistics on the arrays, for example:"
   ]
  },
  {
   "cell_type": "code",
   "execution_count": null,
   "metadata": {},
   "outputs": [],
   "source": [
    "# Create a random number generator\n",
    "rg = np.random.default_rng(1)  # create instance of default random number generator\n",
    "\n",
    "# Create an array of random numbers with shape (2,3)\n",
    "a = rg.random((2, 3))\n",
    "print(a)"
   ]
  },
  {
   "cell_type": "code",
   "execution_count": null,
   "metadata": {},
   "outputs": [],
   "source": [
    "# Sum of all elements in array\n",
    "a.sum()"
   ]
  },
  {
   "cell_type": "code",
   "execution_count": null,
   "metadata": {},
   "outputs": [],
   "source": [
    "# Mean of all elements in the array\n",
    "a.mean()"
   ]
  },
  {
   "cell_type": "code",
   "execution_count": null,
   "metadata": {},
   "outputs": [],
   "source": [
    "# Max of all elements in the array\n",
    "a.max()"
   ]
  },
  {
   "cell_type": "markdown",
   "metadata": {},
   "source": [
    "Alternatively, the axis can be specified to compute the statistics accross:"
   ]
  },
  {
   "cell_type": "code",
   "execution_count": null,
   "metadata": {},
   "outputs": [],
   "source": [
    "# Compute the mean accross axis 1\n",
    "a.mean(axis=0)"
   ]
  },
  {
   "cell_type": "code",
   "execution_count": null,
   "metadata": {},
   "outputs": [],
   "source": [
    "# Compute the mean accross axis 1\n",
    "a.mean(axis=1)"
   ]
  },
  {
   "cell_type": "markdown",
   "metadata": {},
   "source": [
    "## Universal Functions\n",
    "\n",
    "NumPy provides many common mathematical functions including `sin`, `cos`, `exp`, `sqrt`, etc. When called on NumPy arrays, these functions operate elementwise."
   ]
  },
  {
   "cell_type": "code",
   "execution_count": null,
   "metadata": {},
   "outputs": [],
   "source": [
    "# Create an array with numbers from 0-3\n",
    "b = np.arange(4)\n",
    "print(b)"
   ]
  },
  {
   "cell_type": "code",
   "execution_count": null,
   "metadata": {},
   "outputs": [],
   "source": [
    "np.exp(b)"
   ]
  },
  {
   "cell_type": "code",
   "execution_count": null,
   "metadata": {},
   "outputs": [],
   "source": [
    "np.sqrt(b)"
   ]
  },
  {
   "cell_type": "markdown",
   "metadata": {},
   "source": [
    "# Learn More\n",
    "\n",
    "To learn more about using NumPy, see the [NumPy Quickstart Tutorial](https://numpy.org/doc/stable/user/quickstart.html#)"
   ]
  }
 ],
 "metadata": {
  "kernelspec": {
   "display_name": "Python 3 (ipykernel)",
   "language": "python",
   "name": "python3"
  },
  "language_info": {
   "codemirror_mode": {
    "name": "ipython",
    "version": 3
   },
   "file_extension": ".py",
   "mimetype": "text/x-python",
   "name": "python",
   "nbconvert_exporter": "python",
   "pygments_lexer": "ipython3",
   "version": "3.8.11"
  }
 },
 "nbformat": 4,
 "nbformat_minor": 2
}
