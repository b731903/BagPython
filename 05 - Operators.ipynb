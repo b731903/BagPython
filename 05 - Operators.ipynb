{
 "cells": [
  {
   "cell_type": "markdown",
   "id": "9f651605",
   "metadata": {},
   "source": [
    "# Operators\n",
    "\n",
    "Operators are one or more characters that can be used to perform operations on data. For example the `+` character is used to perform the addition operation between two numbers. "
   ]
  },
  {
   "cell_type": "markdown",
   "id": "549f3dbe",
   "metadata": {},
   "source": [
    "## Arithmetic Operators\n",
    "\n",
    "Arithmetic operators are used to perform mathematical calculations. Here's a list of arithmetic operators that are supported in Python\n",
    "\n",
    "| Operator | Function       | Syntax |\n",
    "| -------- | -------------- | ------ |\n",
    "| +        | Addition       | a + b  |\n",
    "| -        | Subtraction    | a - b  |\n",
    "| *        | Multiplication | a * b  |\n",
    "| /        | Division       | a / b  |\n",
    "| //       | Floor Division | a // b |\n",
    "| %        | Modulo         | a % b  |\n",
    "| **       | Power          | a ** b |"
   ]
  },
  {
   "cell_type": "code",
   "execution_count": null,
   "id": "7d8ace33",
   "metadata": {},
   "outputs": [],
   "source": [
    "a = 10\n",
    "b = 4\n",
    "\n",
    "# Addition\n",
    "a + b"
   ]
  },
  {
   "cell_type": "code",
   "execution_count": null,
   "id": "83e91bd0",
   "metadata": {},
   "outputs": [],
   "source": [
    "# Subtraction\n",
    "a - b"
   ]
  },
  {
   "cell_type": "code",
   "execution_count": null,
   "id": "3ed84ab3",
   "metadata": {},
   "outputs": [],
   "source": [
    "# Multiplication\n",
    "a * b"
   ]
  },
  {
   "cell_type": "code",
   "execution_count": null,
   "id": "331f0817",
   "metadata": {},
   "outputs": [],
   "source": [
    "# Division\n",
    "a / b"
   ]
  },
  {
   "cell_type": "code",
   "execution_count": null,
   "id": "0a0f1779",
   "metadata": {},
   "outputs": [],
   "source": [
    "# Floor Division\n",
    "a // b"
   ]
  },
  {
   "cell_type": "code",
   "execution_count": null,
   "id": "84ed232f",
   "metadata": {},
   "outputs": [],
   "source": [
    "# Modulo\n",
    "a % b"
   ]
  },
  {
   "cell_type": "code",
   "execution_count": null,
   "id": "0463e368",
   "metadata": {},
   "outputs": [],
   "source": [
    "# Power\n",
    "a ** b"
   ]
  },
  {
   "cell_type": "markdown",
   "id": "87f27bc1",
   "metadata": {},
   "source": [
    "## String Operators\n",
    "\n",
    "Some operators work differently on different types of data. For strings, the `+` operator will concatenate two strings together:"
   ]
  },
  {
   "cell_type": "code",
   "execution_count": null,
   "id": "6a0bd2ea",
   "metadata": {},
   "outputs": [],
   "source": [
    "line_1 = 'Good night! Good night! '  # <-- Note the space at the end of this string\n",
    "line_2 = 'Parting is such sweet sorrow.'\n",
    "\n",
    "# Concatenate two strings using the + operator\n",
    "combined = line_1 + line_2\n",
    "combined"
   ]
  },
  {
   "cell_type": "markdown",
   "id": "a1babadf",
   "metadata": {},
   "source": [
    "The `*` operator can be used to duplicate a string and concatinate the results:"
   ]
  },
  {
   "cell_type": "code",
   "execution_count": null,
   "id": "c02e405e",
   "metadata": {},
   "outputs": [],
   "source": [
    "hello = 'Hello! ' * 5\n",
    "hello"
   ]
  },
  {
   "cell_type": "markdown",
   "id": "ecfd43b4",
   "metadata": {},
   "source": [
    "Other operators won't work on strings, however, because the behavoir is not well defined. What would dividing one string by another produce? Power?"
   ]
  },
  {
   "cell_type": "markdown",
   "id": "40996d24",
   "metadata": {},
   "source": [
    "## List Operators\n",
    "\n",
    "Similar to strings, the `+` operator can be used to combine two lists:"
   ]
  },
  {
   "cell_type": "code",
   "execution_count": null,
   "id": "0cea617b",
   "metadata": {},
   "outputs": [],
   "source": [
    "list_a = ['A', 'B', 'C']\n",
    "list_b = ['D', 'E', 'F']\n",
    "\n",
    "combined = list_a + list_b\n",
    "combined"
   ]
  },
  {
   "cell_type": "markdown",
   "id": "b826822d",
   "metadata": {},
   "source": [
    "The `*` operator can also be used with lists to duplicate the contents of a list many times:"
   ]
  },
  {
   "cell_type": "code",
   "execution_count": null,
   "id": "9f6122f9",
   "metadata": {},
   "outputs": [],
   "source": [
    "repeating_pattern = [1, 2, 3] * 3\n",
    "repeating_pattern"
   ]
  },
  {
   "cell_type": "markdown",
   "id": "789851f3",
   "metadata": {},
   "source": [
    "# Exercise\n",
    "\n",
    "The equation of a line is: \n",
    "\n",
    "\\begin{equation}\n",
    "\\label{eq:sedov}\n",
    "y = mx + b\n",
    "\\end{equation}\n",
    "\n",
    "Use the arithmetic operators to calculate y given the following values for m, x, and b."
   ]
  },
  {
   "cell_type": "code",
   "execution_count": null,
   "id": "cd3b29c3",
   "metadata": {},
   "outputs": [],
   "source": [
    "# Given\n",
    "m = 5\n",
    "x = 10\n",
    "b = 2\n",
    "\n",
    "# Write your code here\n",
    "y = None\n",
    "\n",
    "# This code checks your code\n",
    "if y != 52:\n",
    "    print(f\"I'm sorry, {y} is not the correct answer!\")\n",
    "else:\n",
    "    print(f\"{y} is correct!\")"
   ]
  },
  {
   "cell_type": "markdown",
   "id": "6a548300",
   "metadata": {},
   "source": [
    "Given the following equation:\n",
    "\n",
    "\\begin{equation}\n",
    "\\label{eq:sedov}\n",
    "c = \\left(a^2 + b^2\\right)^{0.5}\n",
    "\\end{equation}\n",
    "\n",
    "\n",
    "Write the code to calcuate `c` given `a` and `b`"
   ]
  },
  {
   "cell_type": "code",
   "execution_count": null,
   "id": "863b3ab9",
   "metadata": {},
   "outputs": [],
   "source": [
    "# Given\n",
    "a = 4\n",
    "b = 3\n",
    "\n",
    "# Write your code here\n",
    "c = None\n",
    "\n",
    "# This code checks your code\n",
    "if c != 5.0:\n",
    "    print(f\"I'm sorry, {c} is not the correct answer!\")\n",
    "else:\n",
    "    print(f\"{c} is correct!\")"
   ]
  }
 ],
 "metadata": {
  "kernelspec": {
   "display_name": "Python 3 (ipykernel)",
   "language": "python",
   "name": "python3"
  },
  "language_info": {
   "codemirror_mode": {
    "name": "ipython",
    "version": 3
   },
   "file_extension": ".py",
   "mimetype": "text/x-python",
   "name": "python",
   "nbconvert_exporter": "python",
   "pygments_lexer": "ipython3",
   "version": "3.8.11"
  }
 },
 "nbformat": 4,
 "nbformat_minor": 5
}
