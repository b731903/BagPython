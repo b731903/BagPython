{
 "cells": [
  {
   "attachments": {},
   "cell_type": "markdown",
   "id": "7bff236c",
   "metadata": {},
   "source": [
    "# Jupyter Notebook Basics\n",
    "\n",
    "This Notebook provides an introduction to Jupyter Notebooks. Read on to learn more about this powerful tool."
   ]
  },
  {
   "cell_type": "markdown",
   "id": "daba9357",
   "metadata": {},
   "source": [
    "## What is a Jupyter Notebook?\n",
    "\n",
    "This is a Jupyter Notebook! It is an open-source web application that can be used to compose documents with \"live\" code, interactive visualizations, and narrative documentation. Jupyter Notebooks are popular in the scientific community because they allow researchers to create reproducible analyses and visualizations with explanations of each step of the analysis."
   ]
  },
  {
   "cell_type": "markdown",
   "id": "3e53735d",
   "metadata": {},
   "source": [
    "## What is Colaboratory?\n",
    "\n",
    "Colaboratory, or \"Colab\", is a Jupyter Notebook hosted by Google and integrated with Google Drive. It is essentially the Google Doc version of a Jupyter Notebook. The user interface for Jupyter and Colab Notebooks differ slightly, but the core functionality is the same (Figure 1). The advantage of using Colab Notebooks is that there is no installation required and they are easier to share. Colab notebooks also leverage Google servers to perform computations and have many of the popular Scientific Python packages installed by default. \n",
    "\n",
    "Go to https://colab.research.google.com/ to get started using Colab.\n",
    "\n",
    "\n",
    "![Jupyter vs Colab](images/jupyter_vs_colab.png)\n",
    "\n",
    "**Figure 1. Jupyter vs. Colab Interfaces**"
   ]
  },
  {
   "cell_type": "markdown",
   "id": "78689af2",
   "metadata": {},
   "source": [
    "## Cells\n",
    "\n",
    "Notebooks are composed of Cells. There are two types of cells: Text cells and Code cells."
   ]
  },
  {
   "cell_type": "markdown",
   "id": "7d4dcc50",
   "metadata": {},
   "source": [
    "### Text Cells\n",
    "\n",
    "Text cells contain formatted text that is written and formatted using the [Markdown](https://daringfireball.net/projects/markdown/) markup language. For this reason, they are sometimes called Markdown cells. Markdown allows you to write plain-text documents that are converted to HTML. For an introduction to the Markdown language, see [Markdown Basics](https://daringfireball.net/projects/markdown/basics) and [Markdown Syntax](https://daringfireball.net/projects/markdown/syntax).\n",
    "\n",
    "This cell and the cells above describing Notebooks are text cells. You can edit a text cell by double-clicking on it. When you are done, you can render the HTML by either exiting the Markdown editor in Colab Notebooks or by running the cell in Jupyter Notebooks. Running a cell in Jupyter Notebooks is accomplished by selecting the cell and pressing the **Run** button or using the key combination `Ctrl-Enter` or `Cmd-Enter`."
   ]
  },
  {
   "cell_type": "markdown",
   "id": "eb294e8b",
   "metadata": {},
   "source": [
    "#### Exercise\n",
    "Select this cell and create a new Text/Markdown cell below this one and then practice your Markdown skills by entering some text with a Header and a Link in the new cell. Use the appropriate method for the type of notebook you are using:\n",
    "\n",
    "**Jupyter**\n",
    "1. Select this cell.\n",
    "2. Press the **+** button to add a new cell.\n",
    "3. Select **Markdown** from the dropdown that says **Code** to convert the cell to a Markdown/Text cell.\n",
    "\n",
    "**Colab**\n",
    "1. Select this cell\n",
    "2. Press the **+ Text** button."
   ]
  },
  {
   "cell_type": "markdown",
   "id": "89e009e8",
   "metadata": {},
   "source": [
    "### Code Cells\n",
    "\n",
    "Code cells contain Python code that can be modified and executed. If any output is returned by the code cell, it is displayed directly below the cell. Run cells as described above by selecting the cell and either pressing the **Run** button or using the key combination `Ctrl-Enter` or `Cmd-Enter`. For example, run the following cell:"
   ]
  },
  {
   "cell_type": "code",
   "execution_count": null,
   "id": "0c9de132",
   "metadata": {},
   "outputs": [],
   "source": [
    "print(\"Run me!\")"
   ]
  },
  {
   "cell_type": "markdown",
   "id": "c7f48c4c",
   "metadata": {},
   "source": [
    "The output from cells can be simple, like above, or complex. Run the cell below to generate a plot using the [Matplotlib](https://matplotlib.org/) Python library."
   ]
  },
  {
   "cell_type": "code",
   "execution_count": null,
   "id": "c8fa15a2",
   "metadata": {},
   "outputs": [],
   "source": [
    "import matplotlib.pyplot as plt\n",
    "import numpy as np\n",
    "\n",
    "ys = 200 + np.random.randn(100)\n",
    "x = [x for x in range(len(ys))]\n",
    "\n",
    "plt.plot(x, ys, '-')\n",
    "plt.fill_between(x, ys, 195, where=(ys > 195), facecolor='g', alpha=0.6)\n",
    "\n",
    "plt.title(\"Fills and Alpha Example\")\n",
    "plt.show()"
   ]
  },
  {
   "cell_type": "markdown",
   "id": "36bdf0b6",
   "metadata": {},
   "source": [
    "Code cells can also create interactive content such maps. Run the cell below to generate an interactive map using the [Bokeh](https://docs.bokeh.org/en/latest/index.html) Python library."
   ]
  },
  {
   "cell_type": "code",
   "execution_count": null,
   "id": "de1f061f",
   "metadata": {},
   "outputs": [],
   "source": [
    "from bokeh.plotting import figure, show\n",
    "from bokeh.tile_providers import ESRI_IMAGERY, get_provider\n",
    "from bokeh.io import output_notebook\n",
    "\n",
    "# Call once to configure Bokeh to display plots inline in the notebook.\n",
    "output_notebook()\n",
    "\n",
    "tile_provider = get_provider(ESRI_IMAGERY)\n",
    "\n",
    "# range bounds supplied in web mercator coordinates\n",
    "p = figure(x_range=(-2000000, 6000000), y_range=(-1000000, 7000000),\n",
    "           x_axis_type=\"mercator\", y_axis_type=\"mercator\")\n",
    "p.add_tile(tile_provider)\n",
    "show(p)"
   ]
  },
  {
   "cell_type": "code",
   "execution_count": null,
   "id": "cf8b3175",
   "metadata": {},
   "outputs": [],
   "source": []
  }
 ],
 "metadata": {
  "kernelspec": {
   "display_name": "Python 3 (ipykernel)",
   "language": "python",
   "name": "python3"
  },
  "language_info": {
   "codemirror_mode": {
    "name": "ipython",
    "version": 3
   },
   "file_extension": ".py",
   "mimetype": "text/x-python",
   "name": "python",
   "nbconvert_exporter": "python",
   "pygments_lexer": "ipython3",
   "version": "3.8.11"
  }
 },
 "nbformat": 4,
 "nbformat_minor": 5
}
