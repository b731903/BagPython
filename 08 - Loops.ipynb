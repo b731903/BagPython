{
 "cells": [
  {
   "cell_type": "markdown",
   "id": "f601a427",
   "metadata": {},
   "source": [
    "# Loops\n",
    "\n",
    "Loops are used in programming to perform repetative tasks. Python supports two different types of loops: a `for` loop and a `while` loop.\n"
   ]
  },
  {
   "cell_type": "markdown",
   "id": "1795cf67",
   "metadata": {},
   "source": [
    "## The `for` Loop\n",
    "\n",
    "Python `for` loops are used to loop through each item in a sequence such as a list, tuple, or string. A loop variable is defined as part of the for loop to store the current item for each pass through the loop:"
   ]
  },
  {
   "cell_type": "code",
   "execution_count": null,
   "id": "5c1aae59",
   "metadata": {},
   "outputs": [],
   "source": [
    "animals = ['dog', 'cat', 'bird', 'fish']\n",
    "\n",
    "# The loop variable \"animal\" stores the current item from the list \"animals\" for each pass through the loop\n",
    "for animal in animals:\n",
    "    print(animal)\n"
   ]
  },
  {
   "cell_type": "markdown",
   "id": "6f22d232",
   "metadata": {},
   "source": [
    "### The `range` Function\n",
    "\n",
    "The built-in `range` function can be used to easily loop through a range of numbers."
   ]
  },
  {
   "cell_type": "code",
   "execution_count": null,
   "id": "6a98ca7a",
   "metadata": {},
   "outputs": [],
   "source": [
    "# Loop 5 times\n",
    "print('Print 5 times:')\n",
    "\n",
    "# NOTE: the first number returned will be 0\n",
    "for i in range(5):\n",
    "    print(i)\n",
    "\n",
    "# Loop through a specific set of numbers\n",
    "print('Print numbers 10 to 15:')\n",
    "\n",
    "for i in range(10, 15):\n",
    "    print(i)\n",
    "\n",
    "# Specify increment using the 3rd argument\n",
    "print('Print every-other number between 15 and 21:')\n",
    "\n",
    "# Note that the end bound of the loop is not included: 15 >= i < 21\n",
    "for i in range(15, 21, 2):\n",
    "    print(i)"
   ]
  },
  {
   "cell_type": "markdown",
   "id": "f4634fdd",
   "metadata": {},
   "source": [
    "## The `while` Loop\n",
    "\n",
    "A `while` loop is used to perform a repetative task until a condition is met."
   ]
  },
  {
   "cell_type": "code",
   "execution_count": null,
   "id": "7c777d02",
   "metadata": {},
   "outputs": [],
   "source": [
    "x = 0\n",
    "\n",
    "# Loop while the value of x is less than 5\n",
    "while x < 5:\n",
    "    print(x)\n",
    "    \n",
    "    # Don't forget to increment x or the loop will go on forever!\n",
    "    x += 1"
   ]
  },
  {
   "cell_type": "markdown",
   "id": "cfa0f281",
   "metadata": {},
   "source": [
    "## The `break` Statement\n",
    "\n",
    "The `break` statement can be used within a `for` or `while` loop to exit the loop permaturely. This is often used to exit a loop when some condition is met or an error occurs."
   ]
  },
  {
   "cell_type": "code",
   "execution_count": null,
   "id": "7c12b1d0",
   "metadata": {},
   "outputs": [],
   "source": [
    "word = 'PYTH0N'\n",
    "\n",
    "# Loop through each character in a string\n",
    "for letter in word:\n",
    "    # If the letter is numeric, end the loop\n",
    "    if letter.isnumeric():\n",
    "        print(f'{letter} is a number!')\n",
    "        break\n",
    "    \n",
    "    print(f'Current letter: {letter}')\n",
    "    \n",
    "    "
   ]
  },
  {
   "cell_type": "markdown",
   "id": "a8215ceb",
   "metadata": {},
   "source": [
    "## The `continue` Statement\n",
    "\n",
    "The `continue` statement can be used within a `for` or `while` loop to skip the rest of the current iteration and start the next iteration."
   ]
  },
  {
   "cell_type": "code",
   "execution_count": null,
   "id": "4f92ce17",
   "metadata": {},
   "outputs": [],
   "source": [
    "word = 'PYTH0N'\n",
    "\n",
    "# Loop through each character in a string\n",
    "for letter in word:\n",
    "    # If the letter is numeric, skip it the loop\n",
    "    if letter.isnumeric():\n",
    "        print(f'{letter} is a number!')\n",
    "        continue\n",
    "    \n",
    "    print(f'Current letter: {letter}')"
   ]
  },
  {
   "cell_type": "markdown",
   "id": "09df00ae",
   "metadata": {},
   "source": [
    "## The `else` Statement\n",
    "\n",
    "The `else` statement can be used with loops to execute alternative code when the loop condition fails. This occurs the the end of every loop, with the exception of loops that are exited early using a `break` statment."
   ]
  },
  {
   "cell_type": "code",
   "execution_count": null,
   "id": "afc27f22",
   "metadata": {
    "scrolled": true
   },
   "outputs": [],
   "source": [
    "# The else is called when a for loop has no more items in the sequence to loop through\n",
    "animals = ['dog', 'cat', 'bird', 'fish']\n",
    "\n",
    "# The loop variable \"animal\" stores the current item from the list \"animals\" for each pass through the loop\n",
    "for animal in animals:\n",
    "    print(animal)\n",
    "else:\n",
    "    print('No more animals!')"
   ]
  },
  {
   "cell_type": "code",
   "execution_count": null,
   "id": "b70c58ef",
   "metadata": {},
   "outputs": [],
   "source": [
    "# If a for loop is given an empty sequence, only sathe else block will be run.\n",
    "numbers = []\n",
    "\n",
    "for i in numbers:\n",
    "    print(i)\n",
    "else:\n",
    "    print('Nothing to loop through!')  "
   ]
  },
  {
   "cell_type": "code",
   "execution_count": null,
   "id": "c20d7e69",
   "metadata": {},
   "outputs": [],
   "source": [
    "x = 0\n",
    "\n",
    "# The else block will be run when the while condition is False which occurs at the end of the loop\n",
    "while x < 5:\n",
    "    print(x)\n",
    "    x += 1\n",
    "else:\n",
    "    print('Done looping.')"
   ]
  },
  {
   "cell_type": "code",
   "execution_count": null,
   "id": "d5dcea51",
   "metadata": {},
   "outputs": [],
   "source": [
    "for instruction in ['run', 'run', 'run']:\n",
    "    if instruction == 'stop':\n",
    "        print('Stopping...')\n",
    "        break\n",
    "    print(instruction)\n",
    "\n",
    "else:\n",
    "    print('Loop stopped on its own.')"
   ]
  },
  {
   "cell_type": "markdown",
   "id": "fd6e18cb",
   "metadata": {},
   "source": [
    "# Exercise\n",
    "\n",
    "1. Write the code that will loop through the given `passwords` list and verify they meet all of the following criteria:\n",
    "\n",
    "    1. Must be at least 8 characters long \n",
    "    1. Must contain at least one uppercase character\n",
    "    1. Must contain at least one lowercase character\n",
    "    1. The password must contain a number\n",
    "    1. Must contain one of the following special characters: !, @, $, &\n",
    "\n",
    "1. Before processing each password, print the following message: \"Checking password <#>...\" where <#> is the count of the password being checked (e.g.: for the first password print \"Checking password 1...\").\n",
    "1. Print a message that indicates whether or not the password meets the criteria.\n",
    "1. Don't perform the criteria checks if the password is in the `skip` list. Simply print a message that indicates that the password will be skipped and continue the loop with the next password.\n",
    "1. If the word `\"suspicious\"` is encountered, stop processing passwords, print a warning message, and exit the loop immediately.\n",
    "\n",
    "Hint 1: Use the string methods.\n",
    "Hint 2: Loops can be nested.\n",
    "Hint 3: String are sequences."
   ]
  },
  {
   "cell_type": "code",
   "execution_count": null,
   "id": "e605cf93",
   "metadata": {},
   "outputs": [],
   "source": [
    "# Write code to check these passwords for the criteria listed above\n",
    "passwords = [\n",
    "    'srtXw5@7', 'uS$L9g', '7x5fs&$RD', 'Y@95BRZ!M', '9HR&x@PW', 'sRKU&td',\n",
    "    '2vuK!N$m', 'n&7aXthU', 'qsE7D8k$j', 'xFza3T$L', '2gJ$De', 'A9jM&wvD',\n",
    "    '2xTwb$f@', 'M4LWj&nk6', 'B@6Trek4', '', 'Fw!ZU4nYu', 'M2x!Q4Bs', 'ED8t$X65',\n",
    "    'BNZ93xewFpc', 'pD&Gmk5@', '4hrYwNe35bX', 'vk2!f$gs', 'w8&mJ3', 'MnD&!jhftr',\n",
    "    '8sna3$Hb', 'u8L$FDmCs', 'X&RscC6N', 'd9Jm&UGE', '$V7xTv', '85ArzUhM49',\n",
    "    'V@B!3wr8', 'nuJM&g8wK', '$p5AgX', '&3byLd!p', 'aw6MEz$KY', '9j6PJ4@x5',\n",
    "    '9amgS!Y6', '38bwehm!g', 'ux4m&6F@', 'suspicious', 'eYjSt&Pkxd', 'uw2HzD$kj', \n",
    "    '@wp72FCtq', 'EvkFUmAy$n', 'f@j7DYHh', '8@29A37Lz6DP',\n",
    "]\n",
    "\n",
    "# Skip these passwords (don't check)\n",
    "skip = ['8sna3$Hb', 'xFza3T$L', 'n&7aXthU']\n",
    "\n",
    "# Your code here"
   ]
  },
  {
   "cell_type": "code",
   "execution_count": null,
   "id": "a7928f62",
   "metadata": {},
   "outputs": [],
   "source": []
  }
 ],
 "metadata": {
  "kernelspec": {
   "display_name": "Python 3 (ipykernel)",
   "language": "python",
   "name": "python3"
  },
  "language_info": {
   "codemirror_mode": {
    "name": "ipython",
    "version": 3
   },
   "file_extension": ".py",
   "mimetype": "text/x-python",
   "name": "python",
   "nbconvert_exporter": "python",
   "pygments_lexer": "ipython3",
   "version": "3.8.11"
  }
 },
 "nbformat": 4,
 "nbformat_minor": 5
}
