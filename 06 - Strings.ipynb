{
 "cells": [
  {
   "cell_type": "markdown",
   "id": "0f741d43",
   "metadata": {},
   "source": [
    "# String Operations\n",
    "\n",
    "Strings can be thought of as arrays/lists of characters. As with lists, individual characters can be accessed using index notation. Remember that sequences like lists and strings are 0-indexed, meaning the first character is located at index 0, not index 1.\n"
   ]
  },
  {
   "cell_type": "code",
   "execution_count": null,
   "id": "0f48c851",
   "metadata": {},
   "outputs": [],
   "source": [
    "greeting = \"Hello, my name is John.\"\n",
    "greeting[18]"
   ]
  },
  {
   "cell_type": "markdown",
   "id": "897b4671",
   "metadata": {},
   "source": [
    "The comma is located at index 5 (the sixth character). Remember that spaces and newlines are characters as well in strings, even though you can't see them. Negative indexes can be used with strings as well and a portion of a string can be accessed using slice syntax:"
   ]
  },
  {
   "cell_type": "code",
   "execution_count": null,
   "id": "75e5c77a",
   "metadata": {},
   "outputs": [],
   "source": [
    "greeting = \"Hello, my name is Michael.\"\n",
    "greeting[18:-1]"
   ]
  },
  {
   "cell_type": "markdown",
   "id": "8bb128e4",
   "metadata": {},
   "source": [
    "## `split`\n",
    "\n",
    "Strings are objects in Python and they have methods that can be used to perform common string manipulations. For example the `split` method can be used to split a string into parts using the given character sequence as a delimiter. To split a string by commas (`,`):"
   ]
  },
  {
   "cell_type": "code",
   "execution_count": null,
   "id": "3562fc65",
   "metadata": {},
   "outputs": [],
   "source": [
    "column_line = \"Name,Date,Type,Value\"\n",
    "\n",
    "# Argument given to split() is the delimiter that is used to split the string\n",
    "column_line.split(\",\")"
   ]
  },
  {
   "cell_type": "markdown",
   "id": "52bc7d7f",
   "metadata": {},
   "source": [
    "## `strip`\n",
    "\n",
    "Another useful string method is the `strip` method, which can be used to \"strip\" white space characters from the beginning and end of strings. White space characters include spaces, tabs, newlines, and carriage returns."
   ]
  },
  {
   "cell_type": "code",
   "execution_count": null,
   "id": "627bb202",
   "metadata": {},
   "outputs": [],
   "source": [
    "white_space_str = \" Foo \\r\\n\"\n",
    "white_space_str.strip()"
   ]
  },
  {
   "cell_type": "markdown",
   "id": "ce3e1633",
   "metadata": {},
   "source": [
    "## Concatenate\n",
    "\n",
    "The `+` operator can be used to concatenate two or more strings:"
   ]
  },
  {
   "cell_type": "code",
   "execution_count": null,
   "id": "e089bc59",
   "metadata": {},
   "outputs": [],
   "source": [
    "part1 = \"Well done \"\n",
    "part2 = \"is better than \"\n",
    "part3 = \"well said.\"\n",
    "\n",
    "quote = part1 + part2 + part3\n",
    "quote"
   ]
  },
  {
   "cell_type": "markdown",
   "id": "0a70dcf5",
   "metadata": {},
   "source": [
    "## `join`\n",
    "\n",
    "Alternatively, the `join` string method can be used to join a list of strings by a given delimiter. Call the `join` method on the *delimiter string* and pass the list of strings as an argument:"
   ]
  },
  {
   "cell_type": "code",
   "execution_count": null,
   "id": "e7149f66",
   "metadata": {},
   "outputs": [],
   "source": [
    "fruit = ['Bananas', 'Apples', 'Oranges']\n",
    "\n",
    "# Join each item by a comma and a space\n",
    "joined = ', '.join(fruit)\n",
    "joined"
   ]
  },
  {
   "cell_type": "markdown",
   "id": "7d23fe7b",
   "metadata": {},
   "source": [
    "## Character Case Methods\n",
    "\n",
    "The string object also has convenience methods for changing the case of characters in the string:"
   ]
  },
  {
   "cell_type": "code",
   "execution_count": null,
   "id": "91561162",
   "metadata": {
    "scrolled": true
   },
   "outputs": [],
   "source": [
    "book = \"Alice's Adventures in Wonderland\"\n",
    "\n",
    "# Convert all characters to lowercase\n",
    "lower = book.lower()\n",
    "\n",
    "# Convert all characters to uppercase\n",
    "upper = book.upper()\n",
    "\n",
    "# Capitalize the first character of every word\n",
    "title = book.title()\n",
    "\n",
    "# Capitolize only tthe first character in the string\n",
    "capitalize = book.capitalize()\n",
    "\n",
    "# Upercase letters become lowercase, and vice versa\n",
    "swapcase = book.swapcase()\n",
    "\n",
    "# Display the results\n",
    "print(f'book: {book}')\n",
    "print(f'lower: {lower}')\n",
    "print(f'upper: {upper}')\n",
    "print(f'title: {title}')\n",
    "print(f'capitalize: {capitalize}')\n",
    "print(f'swapcase: {swapcase}')"
   ]
  },
  {
   "cell_type": "markdown",
   "id": "a7f736f4",
   "metadata": {},
   "source": [
    "## `endswith` and `startswith`\n",
    "\n",
    "Two other helpful string methods are `endswith` and `startswith`. These can be used to determine if a string ends or starts wit the given string:"
   ]
  },
  {
   "cell_type": "code",
   "execution_count": null,
   "id": "48fd3256",
   "metadata": {},
   "outputs": [],
   "source": [
    "web_address = \"https://www.aquaveo.com\"\n",
    "is_secure = web_address.startswith('https')\n",
    "is_commercial_site = web_address.endswith('com')\n",
    "\n",
    "print(f\"Is Secure? {is_secure}\")\n",
    "print(f\"Is Commercial Site? {is_commercial_site}\")"
   ]
  },
  {
   "cell_type": "markdown",
   "id": "eb20ee51",
   "metadata": {},
   "source": [
    "For a list of all Python string methods, see: [String Methods | Python Documentation](https://docs.python.org/3/library/stdtypes.html#string-methods)"
   ]
  },
  {
   "cell_type": "markdown",
   "id": "ce772a59",
   "metadata": {},
   "source": [
    "# String Formatting\n",
    "\n",
    "One of the most common operations you will perform on strings is string formatting. String formatting a mechamism that allows you to embed the values of variables in strings. Python supports several different ways of accomplishing string formatting, but in this tutorial we will only discuss the format string or f-string method, as it is the easiest.\n",
    "\n",
    "## Format Strings\n",
    "\n",
    "Format strings are similar to normal strings, but the string begins with an `f` before the first quote and variables can be embedded directly in the string at locations indicated with curly braces (`{}`) and the name of the variable. Here are a few examples to illustrate:"
   ]
  },
  {
   "cell_type": "code",
   "execution_count": null,
   "id": "53e88b16",
   "metadata": {},
   "outputs": [],
   "source": [
    "name = 'John'\n",
    "age  = 43\n",
    "\n",
    "# Use {<var_name>} to indicate where the variable values will be substituted in the string\n",
    "about_me = f'My name is {name} and my age is {age}.'\n",
    "about_me"
   ]
  },
  {
   "cell_type": "markdown",
   "id": "33747785",
   "metadata": {},
   "source": [
    "One common need when formatting numbers in f-strings is to control the number of decimal places that are displayed in text dipslayed to users. This can be accomplished as follows:"
   ]
  },
  {
   "cell_type": "code",
   "execution_count": null,
   "id": "f1254208",
   "metadata": {},
   "outputs": [],
   "source": [
    "# The decimals in a number like Euler's number (e) can be controlled in a format string as follows:\n",
    "e = 2.7182\n",
    "\n",
    "# Use :.Xf, where X is the number of digits after the decimal point to display\n",
    "e_str = f\"Euler's number: {e:.2f}\"\n",
    "e_str"
   ]
  },
  {
   "cell_type": "markdown",
   "id": "3dbd018f",
   "metadata": {},
   "source": [
    "Another common string formatting task is to pad numbers with zeros. This is often used when naming files, for example, to ensure they sort in the correct order:"
   ]
  },
  {
   "cell_type": "code",
   "execution_count": null,
   "id": "2f0d7275",
   "metadata": {},
   "outputs": [],
   "source": [
    "# Zeros can be prepended to numbers in a format string as follows\n",
    "first = 1\n",
    "last = 99\n",
    "\n",
    "# Use :0X, where X indicates the number of digits\n",
    "first_file = f\"data_file_{first:03}.csv\"\n",
    "last_file = f\"data_file_{last:03}.csv\"\n",
    "\n",
    "print(first_file)\n",
    "print(last_file)"
   ]
  },
  {
   "cell_type": "markdown",
   "id": "5f911d3d",
   "metadata": {},
   "source": [
    "# Exercise\n",
    "\n",
    "Add code below each comment that performs the string operation described.\n"
   ]
  },
  {
   "cell_type": "code",
   "execution_count": null,
   "id": "43007b49",
   "metadata": {},
   "outputs": [],
   "source": [
    "# Given\n",
    "str_list = ['Hello', 'World']\n",
    "vegatables = 'Carrot;-;Broccoli;-;Cabbage'\n",
    "a_number = 25.4268912\n",
    "\n",
    "# Join the strings in str_list variable, separated by a comma and a space, and save as str1\n",
    "str1 = None\n",
    "\n",
    "# Add an exclamation point to the end of str1 (\"!\") and save as str2\n",
    "str2 = None\n",
    "\n",
    "# Split vegatables into a list of vegatables with no characters other than letters and save as str3\n",
    "str3 = None\n",
    "\n",
    "# Invert the case of the characters in str2 so that uppercase letters become lowercase and vice versa, save as str4\n",
    "str4 = None\n",
    "\n",
    "# Write a format string that takes a_number and will result in the following string: \"The number is: 25.427\", save as str5\n",
    "str5 = None\n",
    "\n",
    "\n",
    "# This code checks your code\n",
    "errors = False\n",
    "if str1 != 'Hello, World':\n",
    "    errors = True\n",
    "    print(f\"'{str1} is not the correct answer for str1. It should be 'Hello, World'. Please try again.\")\n",
    "\n",
    "if str2 != 'Hello, World!':\n",
    "    errors = True\n",
    "    print(f\"'{str2} is not the correct answer for str2. It should be 'Hello, World!'. Please try again.\")\n",
    "\n",
    "if str3 != ['Carrot', 'Broccoli', 'Cabbage']:\n",
    "    errors = True\n",
    "    print(f\"'{str3} is not the correct answer for str3. It should be ['Carrot', 'Broccoli', 'Cabbage']. Please try again.\")\n",
    "\n",
    "if str4 != 'hELLO, wORLD!':\n",
    "    errors = True\n",
    "    print(f\"'{str4} is not the correct answer for str4. It should be 'hELLO, wORLD!'. Please try again.\")\n",
    "\n",
    "if str5 != 'The number is: 25.427':\n",
    "    errors = True\n",
    "    print(f\"'{str5} is not the correct answer for str5. It should be 'The number is: 25.427'. Please try again.\")\n",
    "    \n",
    "if not errors:\n",
    "    print(\"Congratulations, you did it!\")"
   ]
  }
 ],
 "metadata": {
  "kernelspec": {
   "display_name": "Python 3 (ipykernel)",
   "language": "python",
   "name": "python3"
  },
  "language_info": {
   "codemirror_mode": {
    "name": "ipython",
    "version": 3
   },
   "file_extension": ".py",
   "mimetype": "text/x-python",
   "name": "python",
   "nbconvert_exporter": "python",
   "pygments_lexer": "ipython3",
   "version": "3.8.11"
  }
 },
 "nbformat": 4,
 "nbformat_minor": 5
}
