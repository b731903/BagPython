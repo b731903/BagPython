{
 "cells": [
  {
   "cell_type": "markdown",
   "id": "5f18495a",
   "metadata": {},
   "source": [
    "# Conditionals\n",
    "\n",
    "Conditional statements are one of the primary ways you can control the flow of a program in Python. A conditional statements uses operators like `==`, `<` and `>` to compare values of variables, returning the boolean value `True` if the condition is true and `False` if it is not."
   ]
  },
  {
   "cell_type": "code",
   "execution_count": null,
   "id": "73150c6b",
   "metadata": {},
   "outputs": [],
   "source": [
    "x = 10\n",
    "\n",
    "# The equality operator (==) is used to test if two values are equal\n",
    "print(\"Equality operator:\")\n",
    "print(x == 10)  # Returns True\n",
    "print(x == 20)  # Returns False"
   ]
  },
  {
   "cell_type": "code",
   "execution_count": null,
   "id": "b3968de3",
   "metadata": {},
   "outputs": [],
   "source": [
    "# The not equals (!=) operator can be used to verify two values are not equal\n",
    "print(\"Not Equal operator:\")\n",
    "print(x != 10)  # Returns False\n",
    "print(x != 20)  # Returns True"
   ]
  },
  {
   "cell_type": "code",
   "execution_count": null,
   "id": "8cee0117",
   "metadata": {},
   "outputs": [],
   "source": [
    "# Other conditional operators include the less than (<) and greater than (>) operators\n",
    "print(\"The < and > operators:\")\n",
    "print(x > 0)  # Returns True\n",
    "print(x < 5)  # Returns False"
   ]
  },
  {
   "cell_type": "code",
   "execution_count": null,
   "id": "f02ee52a",
   "metadata": {},
   "outputs": [],
   "source": [
    "# Python also supports the less than or equal to (<=) and greater than or equal to (>=) operators\n",
    "print(\"The <= and >= operators:\")\n",
    "print(x >= 10)  # Returns True\n",
    "print(x <= 10)  # Returns True"
   ]
  },
  {
   "cell_type": "markdown",
   "id": "979a684e",
   "metadata": {},
   "source": [
    "## The `and` and `or` Operators\n",
    "\n",
    "For more complex conditional checks, the `and` and `or` operators can be used to combine checks:"
   ]
  },
  {
   "cell_type": "code",
   "execution_count": null,
   "id": "3311fbf1",
   "metadata": {},
   "outputs": [],
   "source": [
    "animal = 'dog'\n",
    "weight = 70\n",
    "\n",
    "# Two conditions joined by \"and\" will return True only if both conditions are True\n",
    "print(\"Is the animal a dog and large?\")\n",
    "animal == 'dog' and weight > 60"
   ]
  },
  {
   "cell_type": "code",
   "execution_count": null,
   "id": "9bb1e984",
   "metadata": {},
   "outputs": [],
   "source": [
    "print(\"Is the animal a dog and small?\")\n",
    "animal == 'dog' and weight < 30"
   ]
  },
  {
   "cell_type": "code",
   "execution_count": null,
   "id": "1051a757",
   "metadata": {},
   "outputs": [],
   "source": [
    "# Two conditions joined by \"or\" will return True if either condition is True\n",
    "print(\"Is the animal a dog or a cat?\")\n",
    "animal == 'dog' or animal == 'cat'"
   ]
  },
  {
   "cell_type": "code",
   "execution_count": null,
   "id": "570f1ded",
   "metadata": {},
   "outputs": [],
   "source": [
    "print(\"Is the animal a bird or a fish?\")\n",
    "animal == 'bird' or animal == 'fish'"
   ]
  },
  {
   "cell_type": "markdown",
   "id": "c4964c55",
   "metadata": {},
   "source": [
    "## The `in` Operator\n",
    "\n",
    "The `in` operator in Python can be used to check if a value is contained in a container object such as a `list` or `tuple`:"
   ]
  },
  {
   "cell_type": "code",
   "execution_count": null,
   "id": "8b7a6d1e",
   "metadata": {},
   "outputs": [],
   "source": [
    "classes = ['algebra', 'hydrology', 'dance', 'bowling']\n",
    "\n",
    "print(\"Do I have hydrology class this semester?\")\n",
    "'hydrology' in classes"
   ]
  },
  {
   "cell_type": "code",
   "execution_count": null,
   "id": "07cefed2",
   "metadata": {},
   "outputs": [],
   "source": [
    "print(\"Do I have calculus class this semester?\")\n",
    "'calculus' in classes"
   ]
  },
  {
   "cell_type": "markdown",
   "id": "47305e03",
   "metadata": {},
   "source": [
    "The `in` operator can also be used to test if subsets of strings are contained in other strings:"
   ]
  },
  {
   "cell_type": "code",
   "execution_count": null,
   "id": "562e0805",
   "metadata": {},
   "outputs": [],
   "source": [
    "tags = \"water resources, hydrology, hydroinformatics\"\n",
    "\n",
    "print(\"Contains the hydrology tag?\")\n",
    "'hydrology' in tags"
   ]
  },
  {
   "cell_type": "markdown",
   "id": "53a3fd15",
   "metadata": {},
   "source": [
    "## The `is` Operator\n",
    "\n",
    "The `is` operator is used to test if the values of two variables are the same object. It is different than the equality operator because two variables can contain equal values that are different objects"
   ]
  },
  {
   "cell_type": "code",
   "execution_count": null,
   "id": "fe814bcb",
   "metadata": {},
   "outputs": [],
   "source": [
    "x = [1, 2, 3]\n",
    "y = [1, 2, 3]\n",
    "z = x\n",
    "\n",
    "# Two objects can have the same value, but are not the same object\n",
    "print(\"Does the value of x equal the value of y?\")\n",
    "x == y  # True"
   ]
  },
  {
   "cell_type": "code",
   "execution_count": null,
   "id": "ff30bbcc",
   "metadata": {},
   "outputs": [],
   "source": [
    "print(\"Is x storing the same object as y?\")\n",
    "x is y  # False"
   ]
  },
  {
   "cell_type": "code",
   "execution_count": null,
   "id": "f7f078de",
   "metadata": {},
   "outputs": [],
   "source": [
    "print(\"Is z storing the same object as x?\")\n",
    "z is x # True"
   ]
  },
  {
   "cell_type": "markdown",
   "id": "fcb07334",
   "metadata": {},
   "source": [
    "The proper way to check if the value of a variable is explicity `True`, `False`, or `None` is to use the `is` operator:"
   ]
  },
  {
   "cell_type": "code",
   "execution_count": null,
   "id": "5ebfc9fa",
   "metadata": {},
   "outputs": [],
   "source": [
    "t = True\n",
    "f = False\n",
    "n = None\n",
    "\n",
    "print(t is True)\n",
    "print(f is False)\n",
    "print(n is None)"
   ]
  },
  {
   "cell_type": "markdown",
   "id": "ec6302fc",
   "metadata": {},
   "source": [
    "## The `not` Operator\n",
    "\n",
    "The `not` operator is used to negate or reverse a conditional statement it proceeds:"
   ]
  },
  {
   "cell_type": "code",
   "execution_count": null,
   "id": "7c466142",
   "metadata": {
    "scrolled": true
   },
   "outputs": [],
   "source": [
    "makes = ['hyundai', 'toyota', 'honda']\n",
    "\n",
    "'tesla' not in makes"
   ]
  },
  {
   "cell_type": "markdown",
   "id": "031f1a81",
   "metadata": {},
   "source": [
    "Use `is` and `not` together to verify that the value of a variable is not `None`:"
   ]
  },
  {
   "cell_type": "code",
   "execution_count": null,
   "id": "d64cace4",
   "metadata": {},
   "outputs": [],
   "source": [
    "model = \"I'm not None!\"\n",
    "model is not None"
   ]
  },
  {
   "cell_type": "markdown",
   "id": "d36a9aa7",
   "metadata": {},
   "source": [
    "## The `if` Statement\n",
    "\n",
    "An `if` statement contains a block of code that is only executed if its condition is `True`. If statements are used to provide programs with a decision making capability. "
   ]
  },
  {
   "cell_type": "code",
   "execution_count": null,
   "id": "6bf0ef54",
   "metadata": {},
   "outputs": [],
   "source": [
    "value = 100\n",
    "units = 'kg'\n",
    "convert_to = 'lbs'\n",
    "converted = None\n",
    "\n",
    "if units == 'kg' and convert_to == 'lbs':\n",
    "    # The indented block of code following an if statement is only run if the condition is True\n",
    "    print('Converting value from kg to lbs:')\n",
    "    converted = value * 2.20462\n",
    "\n",
    "if units == 'kg' and convert_to == 'stones':\n",
    "    # The indented block of code following an if statement is only run if the condition is True\n",
    "    print('Converting value from kg to stones:')\n",
    "    converted = value * 0.157473\n",
    "\n",
    "if units == convert_to:\n",
    "    # The indented block of code following an if statement is only run if the condition is True\n",
    "    print('No conversion needed')\n",
    "    converted = value\n",
    "\n",
    "if converted is not None:\n",
    "    # This line will only be run if the value of converted is not None\n",
    "    print(f'{value} {units} is {converted:.0f} {convert_to}')\n"
   ]
  },
  {
   "cell_type": "markdown",
   "id": "426ce87d",
   "metadata": {},
   "source": [
    "## Nested `if` Statements\n",
    "\n",
    "`if` statements can be nested, meaning an `if` statement can be contained inside another. The program above could be rewritten using nested `if` statements as follows:"
   ]
  },
  {
   "cell_type": "code",
   "execution_count": null,
   "id": "fecb8312",
   "metadata": {},
   "outputs": [],
   "source": [
    "value = 100\n",
    "units = 'kg'\n",
    "convert_to = 'lbs'\n",
    "converted = None\n",
    "\n",
    "if units == 'kg':\n",
    "    # This if statement is nested inside the first\n",
    "    if convert_to == 'lbs':\n",
    "        # The indented block of code following an if statement is only run if the condition is True\n",
    "        print('Converting value from kg to lbs:')\n",
    "        converted = value * 2.20462\n",
    "\n",
    "    # This if statement is at the same level as the second, so it is nested inside the first if statement\n",
    "    if convert_to == 'stones':\n",
    "        # The indented block of code following an if statement is only run if the condition is True\n",
    "        print('Converting value from kg to stones:')\n",
    "        converted = value * 0.157473\n",
    "\n",
    "if units == convert_to:\n",
    "    # The indented block of code following an if statement is only run if the condition is True\n",
    "    print('No conversion needed')\n",
    "    converted = value\n",
    "\n",
    "if converted is not None:\n",
    "    # This line will only be run if the value of converted is not None\n",
    "    print(f'{value} {units} is {converted:.0f} {convert_to}')\n"
   ]
  },
  {
   "cell_type": "markdown",
   "id": "5afb3f0f",
   "metadata": {},
   "source": [
    "## The `else` Statement\n",
    "\n",
    "An `if` statement can contain one `else` statement, which is used to define an alternative block of code to run if the `if` condition is `False`.. The `else` statement is defined following the `if` statement and its block of code."
   ]
  },
  {
   "cell_type": "code",
   "execution_count": null,
   "id": "4cea985e",
   "metadata": {},
   "outputs": [],
   "source": [
    "status = 'off'\n",
    "\n",
    "if status == 'on':\n",
    "    # This line is run if the condition is met\n",
    "    print('The widget is on.')\n",
    "else:\n",
    "    # Otherwise this line will be run\n",
    "    print('The widget is off.')\n"
   ]
  },
  {
   "cell_type": "markdown",
   "id": "326bf2d8",
   "metadata": {},
   "source": [
    "## The `elif` Statement\n",
    "\n",
    "An `if` statement can contain one or more `elif` statements to check additional conditions to check if the first condition is `False`. An `if` statement with `elif` statements can also include an `else` statement to catch all other cases not checked."
   ]
  },
  {
   "cell_type": "code",
   "execution_count": null,
   "id": "6ec43169",
   "metadata": {},
   "outputs": [],
   "source": [
    "color = 'red'\n",
    "\n",
    "if color == 'green':\n",
    "    print('The color is green.')\n",
    "elif color == 'yellow':\n",
    "    print('The color is yellow.')\n",
    "elif color == 'red':\n",
    "    print('The color is red.')\n",
    "elif color == 'blue':\n",
    "    print('The color is blue.')\n",
    "else:\n",
    "    print('The color is not green, yellow, red, or blue.')"
   ]
  },
  {
   "cell_type": "markdown",
   "id": "a17ba38d",
   "metadata": {},
   "source": [
    "Each `elif` statement is checked in order. If one of the `elif` statements evaluates to `True`, no additional `elif` statements are checked. This is different then using multiple `if` statments and often more efficient. Consider the following simple case study:"
   ]
  },
  {
   "cell_type": "code",
   "execution_count": null,
   "id": "ee2c1c38",
   "metadata": {},
   "outputs": [],
   "source": [
    "# Both 1 and 2 are printed because both if statements are checked and both conditons are True\n",
    "if True:\n",
    "    print(1)  # Printed b/c condition is True\n",
    "\n",
    "if True:\n",
    "    print(2)  # Printed b/c condition is True\n",
    "    \n",
    "# Although 5 is contained in a True elif statement, it is not printed because evaluation of the elif ends after the True elif with 4\n",
    "\n",
    "if False:\n",
    "    print(3)  # Not printed b/c condition is False\n",
    "elif True:\n",
    "    print(4)  # Printed b/c condition is True\n",
    "elif True:\n",
    "    print(5)  # Not printed b/c elif was not evaluated due to previous elif being True"
   ]
  },
  {
   "cell_type": "markdown",
   "id": "e66cc0a6",
   "metadata": {},
   "source": [
    "# Truthy and Falsy Values\n",
    "\n",
    "Some non-boolean values are treated as either `True` or `False` in `if` statements. These are called either \"truthy\" if they evaluate as `True` and \"falsy\" if they evaluate as `False`."
   ]
  },
  {
   "cell_type": "code",
   "execution_count": null,
   "id": "3eaa16b5",
   "metadata": {},
   "outputs": [],
   "source": [
    "# Examples of Truthy Values\n",
    "\n",
    "# non-zero numbers\n",
    "if 10:\n",
    "    print(\"10 is truthy\")\n",
    "\n",
    "# non-empty strings\n",
    "if 'python':\n",
    "    print('The string \"python\" is truthy')\n",
    "\n",
    "# non-empty lists and tuples\n",
    "if [1, 2, 3]:\n",
    "    print('The list [1, 2, 4] is truthy')\n",
    "\n",
    "# Examples of Falsy Values\n",
    "\n",
    "# Any 0 valued number\n",
    "if not 0:\n",
    "    print(\"int 0 is falsy\")\n",
    "\n",
    "if not 0.0:\n",
    "    print(\"float 0.0 is falsy\")\n",
    "\n",
    "# the empty string\n",
    "if not \"\":\n",
    "    print('The empty string \"\" is falsy')\n",
    "\n",
    "# an empty list or tuple\n",
    "if not []:\n",
    "    print('An emtpy list [] is falsy')\n",
    "\n",
    "# None\n",
    "if not None:\n",
    "    print('The None value is falsy')\n"
   ]
  },
  {
   "cell_type": "markdown",
   "id": "90b9a70d",
   "metadata": {},
   "source": [
    "You can use the built-in `bool` function to check if a value is truthy or falsy. If the value is converted to `True` it is Truthy, if `False`, it is falsy."
   ]
  },
  {
   "cell_type": "code",
   "execution_count": null,
   "id": "de5dad9e",
   "metadata": {},
   "outputs": [],
   "source": [
    "# Use the bool function to convert values to True or False and test truthy or falsy\n",
    "print(bool(0))\n",
    "print(bool(-13))\n",
    "print(bool(None))\n",
    "print(bool((1,2,3)))\n",
    "print(bool([]))\n",
    "print(bool('Hello, World!'))"
   ]
  },
  {
   "cell_type": "markdown",
   "id": "931b377e",
   "metadata": {},
   "source": [
    "# Exercises\n",
    "\n",
    "Use conditional statements to complete the following exercises\n",
    "\n",
    "## Exercise 1"
   ]
  },
  {
   "cell_type": "code",
   "execution_count": null,
   "id": "785f82a8",
   "metadata": {},
   "outputs": [],
   "source": [
    "# Exercise 1\n",
    "name = ''  # Enter a name\n",
    "\n",
    "# Write a conditional statment that checks if the name is in title case (e.g.: Bob Jones). \n",
    "# If it is not in title case, print \"Please use title case to enter your name.\"\n",
    "# Otherwise, prints \"Hello, <name>!\" (e.g.: \"Hello, Bob Jones!\").\n",
    "\n",
    "# Hint: Review the string operations tutorial"
   ]
  },
  {
   "cell_type": "markdown",
   "id": "79fd2e45",
   "metadata": {},
   "source": [
    "## Exercise 2"
   ]
  },
  {
   "cell_type": "code",
   "execution_count": null,
   "id": "4efabbb2",
   "metadata": {},
   "outputs": [],
   "source": [
    "# Exercise 2\n",
    "number = 3\n",
    "\n",
    "# Write a conditional statement to check if the number is odd. \n",
    "# If the number is odd print \"<number> is an odd number.\", otherwise print \"<number> is not an odd number.\"\n",
    "\n",
    "# Hint: What does the % operator do again?"
   ]
  },
  {
   "cell_type": "markdown",
   "id": "487b47f9",
   "metadata": {},
   "source": [
    "## Exercise 3"
   ]
  },
  {
   "cell_type": "code",
   "execution_count": null,
   "id": "81f7e4cd",
   "metadata": {},
   "outputs": [],
   "source": [
    "# Exercise 3\n",
    "colors = [\"red\", \"white\", \"blue\"]\n",
    "\n",
    "# Write a conditional statement to check if the list of colors.\n",
    "# If it contains \"red\" and \"white\" and \"blue\", print \"The list contains the three colors red, white, and blue.\"\n",
    "# If it contains red or white or blue, print \"The list has one of the three colors red, white, or blue.\"\n",
    "# Otherwise, print \"The list does not have any of the colors red, white, or blue.\""
   ]
  }
 ],
 "metadata": {
  "kernelspec": {
   "display_name": "Python 3 (ipykernel)",
   "language": "python",
   "name": "python3"
  },
  "language_info": {
   "codemirror_mode": {
    "name": "ipython",
    "version": 3
   },
   "file_extension": ".py",
   "mimetype": "text/x-python",
   "name": "python",
   "nbconvert_exporter": "python",
   "pygments_lexer": "ipython3",
   "version": "3.8.11"
  }
 },
 "nbformat": 4,
 "nbformat_minor": 5
}
