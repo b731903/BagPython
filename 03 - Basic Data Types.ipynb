{
 "cells": [
  {
   "cell_type": "markdown",
   "id": "43117e6c",
   "metadata": {},
   "source": [
    "# Basic Data Types\n",
    "\n",
    "A **variable** can be thought of as a container for storing data. There are different types of data that variables can store. In some programming langauges it is necessary to declare whate type of data a variable will hold. Python is **duck typed** meaning the type of a variable is automatically determined based on the value you assign to it. \n",
    "\n",
    "Python includes a built-in function called `type` that can be used to determine the type of data that is stored in a variable. This tutorial will introduce you to three basic data types supported in Python: numbers, booleans, strings."
   ]
  },
  {
   "cell_type": "markdown",
   "id": "cadd7fb5",
   "metadata": {},
   "source": [
    "\n",
    "## Assignment\n",
    "\n",
    "The assignment operator (`=`) is used to assign values to variables like so:\n",
    "\n",
    "```\n",
    "<variable_name> = <value>\n",
    "```"
   ]
  },
  {
   "cell_type": "code",
   "execution_count": null,
   "id": "af19dc7a",
   "metadata": {},
   "outputs": [],
   "source": [
    "# Assign values to variables using the assignment operator: \"=\"\n",
    "age = 25\n",
    "age"
   ]
  },
  {
   "cell_type": "markdown",
   "id": "178d02ab",
   "metadata": {},
   "source": [
    "## Numbers\n",
    "\n",
    "Python supports two different types of numbers: integers and floating point numbers.\n",
    "\n",
    "### Integers\n",
    "\n",
    "Integer or `int` variables are used to store whole number data such as the number of fish in a lake or the year of the last global pandemic. Create a variable containing an integer number by assigning a whole number to it:"
   ]
  },
  {
   "cell_type": "code",
   "execution_count": null,
   "id": "1453ee75",
   "metadata": {},
   "outputs": [],
   "source": [
    "# integer\n",
    "covid_year = 2019\n",
    "type(covid_year)"
   ]
  },
  {
   "cell_type": "markdown",
   "id": "92248820",
   "metadata": {},
   "source": [
    "### Floating Point Numbers\n",
    "\n",
    "Floating point or `float` variables are used to store numbers with decimal points such as the number pi or the current temperature. Create a variable containing a floating point number by assigning a decimal number to it:"
   ]
  },
  {
   "cell_type": "code",
   "execution_count": null,
   "id": "3102cd44",
   "metadata": {},
   "outputs": [],
   "source": [
    "# floating point number\n",
    "pi = 3.14159265359\n",
    "type(pi)"
   ]
  },
  {
   "cell_type": "markdown",
   "id": "415e79d6",
   "metadata": {},
   "source": [
    "## Boolean\n",
    "\n",
    "A boolean value is one of `True` or `False`. These values are usually returned by conditional statements, which will be discussed in another notebook."
   ]
  },
  {
   "cell_type": "code",
   "execution_count": null,
   "id": "174959d3",
   "metadata": {},
   "outputs": [],
   "source": [
    "# boolean\n",
    "my_bool = True\n",
    "my_other_bool = False\n",
    "type(my_bool)"
   ]
  },
  {
   "cell_type": "markdown",
   "id": "14c2df6a",
   "metadata": {},
   "source": [
    "## String\n",
    "\n",
    "Strings store textual data. Python supports defining strings using either single quotes (`'`) or double quotes (`\"`)."
   ]
  },
  {
   "cell_type": "code",
   "execution_count": null,
   "id": "faf8adba",
   "metadata": {},
   "outputs": [],
   "source": [
    "# strings\n",
    "my_string = 'This is a string with single quotes.'\n",
    "my_other_string = \"Don't use apostrophes in single-quote strings.\"\n",
    "type(my_string)"
   ]
  },
  {
   "cell_type": "markdown",
   "id": "07bbb22e",
   "metadata": {},
   "source": [
    "## None\n",
    "\n",
    "`None` is a special value that can be assigned to variables to denote that there is no value, similar to null in other languages. For example, `None` can be used as a default value for a variable that may or may not get set in a program."
   ]
  },
  {
   "cell_type": "code",
   "execution_count": null,
   "id": "f2bb017b",
   "metadata": {},
   "outputs": [],
   "source": [
    "no_value = None\n",
    "type(no_value)"
   ]
  },
  {
   "cell_type": "markdown",
   "id": "92da2c56",
   "metadata": {},
   "source": [
    "## Type Conversion\n",
    "\n",
    "Each basic data type has an assoicated function that can be used to convert certain types of data to others. For example a string containing only numbers can be converted to an `int` or `float`:"
   ]
  },
  {
   "cell_type": "code",
   "execution_count": null,
   "id": "781affe6",
   "metadata": {},
   "outputs": [],
   "source": [
    "int('125')"
   ]
  },
  {
   "cell_type": "code",
   "execution_count": null,
   "id": "934cf077",
   "metadata": {},
   "outputs": [],
   "source": [
    "float('13.8')"
   ]
  },
  {
   "cell_type": "markdown",
   "id": "fb7bef47",
   "metadata": {},
   "source": [
    "Numbers and strings can be converted to boolean values using the `bool` function. For numbers, any value that is non-zero will be converted to `True`, and 0 will be converted to `False`. For strings, the empty string will be converted to `False` and non-empty strings are converted to `True`:"
   ]
  },
  {
   "cell_type": "code",
   "execution_count": null,
   "id": "2fdc3229",
   "metadata": {},
   "outputs": [],
   "source": [
    "print(bool(0))\n",
    "print(bool(10))\n",
    "print(bool(0.0))\n",
    "print(bool(10.0))\n",
    "print(bool(\"\"))\n",
    "print(bool(\"Not Empty\"))"
   ]
  },
  {
   "cell_type": "markdown",
   "id": "5788d97b",
   "metadata": {},
   "source": [
    "All other values can be converted to strings using the `str` function:"
   ]
  },
  {
   "cell_type": "code",
   "execution_count": null,
   "id": "794af59e",
   "metadata": {},
   "outputs": [],
   "source": [
    "str(36)"
   ]
  },
  {
   "cell_type": "code",
   "execution_count": null,
   "id": "17ca1fc9",
   "metadata": {},
   "outputs": [],
   "source": [
    "str(3.6)"
   ]
  },
  {
   "cell_type": "code",
   "execution_count": null,
   "id": "6b6308ac",
   "metadata": {},
   "outputs": [],
   "source": [
    "str(True)"
   ]
  },
  {
   "cell_type": "markdown",
   "id": "9361920a",
   "metadata": {},
   "source": [
    "# Exercise\n",
    "\n",
    "Replace the `None` value with a value of the appropriate type for each variable as indicated in the comments. Don't worry about the code following the variable assignment lines, it just checks that you have assigned the value appropriately."
   ]
  },
  {
   "cell_type": "code",
   "execution_count": null,
   "id": "851bf1fd",
   "metadata": {},
   "outputs": [],
   "source": [
    "# Assign an integer number value to the my_int variable\n",
    "my_int = None\n",
    "\n",
    "# Assign a floating point number value to the my_float variable\n",
    "my_float = None\n",
    "\n",
    "# Assign a string value to the my_string variable\n",
    "my_string = None\n",
    "\n",
    "# Assign a boolean value to the my_bool variable\n",
    "my_bool = None\n",
    "\n",
    "\n",
    "\n",
    "\n",
    "# Don't worry about the code after this line, it just checks your answers\n",
    "has_errors = False\n",
    "if my_int is None or not isinstance(my_int, int):\n",
    "    has_errors = True\n",
    "    print(f\"I'm sorry, but {my_int} is not an integer number value. Please try again.\")\n",
    "\n",
    "if my_float is None or not isinstance(my_float, float):\n",
    "    has_errors = True\n",
    "    print(f\"I'm sorry, but {my_float} is not a floating point number value. Please try again.\")\n",
    "\n",
    "if my_string is None or not isinstance(my_string, str):\n",
    "    has_errors = True\n",
    "    print(f\"I'm sorry, but {my_string} is not a string value. Please try again.\")\n",
    "\n",
    "if my_bool is None or not isinstance(my_bool, bool):\n",
    "    has_errors = True\n",
    "    print(f\"I'm sorry, but {my_bool} is not a boolean value. Please try again.\")\n",
    "\n",
    "if not has_errors:\n",
    "    print(\"Congratulations! You used the correct types for all variables!\")\n"
   ]
  },
  {
   "cell_type": "code",
   "execution_count": null,
   "id": "dd5942e2",
   "metadata": {},
   "outputs": [],
   "source": []
  }
 ],
 "metadata": {
  "kernelspec": {
   "display_name": "Python 3 (ipykernel)",
   "language": "python",
   "name": "python3"
  },
  "language_info": {
   "codemirror_mode": {
    "name": "ipython",
    "version": 3
   },
   "file_extension": ".py",
   "mimetype": "text/x-python",
   "name": "python",
   "nbconvert_exporter": "python",
   "pygments_lexer": "ipython3",
   "version": "3.8.11"
  }
 },
 "nbformat": 4,
 "nbformat_minor": 5
}
