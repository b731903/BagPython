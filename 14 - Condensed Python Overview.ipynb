{
 "cells": [
  {
   "cell_type": "markdown",
   "id": "cd3ce03d",
   "metadata": {},
   "source": [
    "# Condensed Python Overview\n",
    "\n",
    "This notebook provides a condensed overview of the Python syntax."
   ]
  },
  {
   "cell_type": "markdown",
   "id": "dd750794",
   "metadata": {},
   "source": [
    "## The `print` Function\n",
    "\n",
    "Use the `print` function to print output."
   ]
  },
  {
   "cell_type": "code",
   "execution_count": null,
   "id": "87a1db40",
   "metadata": {},
   "outputs": [],
   "source": [
    "print(\"Hello, World!\")"
   ]
  },
  {
   "cell_type": "markdown",
   "id": "ff97ae34",
   "metadata": {},
   "source": [
    "## Indentation = Scope\n",
    "\n",
    "Indentation is used in Python to indicate scope. Use 4 spaces to indent."
   ]
  },
  {
   "cell_type": "code",
   "execution_count": null,
   "id": "79dddcff",
   "metadata": {},
   "outputs": [],
   "source": [
    "roses_are_red = False\n",
    "\n",
    "if roses_are_red:\n",
    "    print(\"They are red!\")\n",
    "else:\n",
    "    print(\"They are not red!\")"
   ]
  },
  {
   "cell_type": "markdown",
   "id": "cc9bb510",
   "metadata": {},
   "source": [
    "## Comments\n",
    "\n",
    "Use the `#` character to start comments. Comments are ignored by Python and can be used to document your code."
   ]
  },
  {
   "cell_type": "code",
   "execution_count": null,
   "id": "cbf037f2",
   "metadata": {},
   "outputs": [],
   "source": [
    "# This line is ignored because it is a comment"
   ]
  },
  {
   "cell_type": "markdown",
   "id": "3940037c",
   "metadata": {},
   "source": [
    "## Variables\n",
    "\n",
    "A **variable** is a container for data. Values are assigned to variables using the assignment operator (`=`):"
   ]
  },
  {
   "cell_type": "code",
   "execution_count": null,
   "id": "51254ef1",
   "metadata": {},
   "outputs": [],
   "source": [
    "# Assign values to variables using the assignment operator (=)\n",
    "a_number = 5\n",
    "a_number"
   ]
  },
  {
   "cell_type": "markdown",
   "id": "138c1324",
   "metadata": {},
   "source": [
    "The type of a data variable stores does not need to be declared in Python, because it is inferred by the value that is assigned to the variable."
   ]
  },
  {
   "cell_type": "markdown",
   "id": "4ede098c",
   "metadata": {},
   "source": [
    "## Basic Data Types\n",
    "\n",
    "There are four basic data types in Python: integers (ints), floating point numbers (floats), strings, and booleans."
   ]
  },
  {
   "cell_type": "markdown",
   "id": "dcd73e7d",
   "metadata": {},
   "source": [
    "### Integers"
   ]
  },
  {
   "cell_type": "code",
   "execution_count": null,
   "id": "4815f931",
   "metadata": {},
   "outputs": [],
   "source": [
    "# integer\n",
    "covid_year = 2019\n",
    "type(covid_year)"
   ]
  },
  {
   "cell_type": "markdown",
   "id": "615dd430",
   "metadata": {},
   "source": [
    "### Floats"
   ]
  },
  {
   "cell_type": "code",
   "execution_count": null,
   "id": "281e1314",
   "metadata": {},
   "outputs": [],
   "source": [
    "# floating point number\n",
    "pi = 3.14159265359\n",
    "type(pi)"
   ]
  },
  {
   "cell_type": "markdown",
   "id": "5ca614fb",
   "metadata": {},
   "source": [
    "### Strings"
   ]
  },
  {
   "cell_type": "code",
   "execution_count": null,
   "id": "204a8938",
   "metadata": {},
   "outputs": [],
   "source": [
    "# strings\n",
    "my_string = 'This is a string with single quotes.'\n",
    "my_other_string = \"Don't use apostrophes in single-quote strings.\"\n",
    "type(my_string)"
   ]
  },
  {
   "cell_type": "markdown",
   "id": "ad10f247",
   "metadata": {},
   "source": [
    "### Boolean"
   ]
  },
  {
   "cell_type": "code",
   "execution_count": null,
   "id": "3898ccc0",
   "metadata": {
    "scrolled": true
   },
   "outputs": [],
   "source": [
    "# boolean\n",
    "my_bool = True\n",
    "my_other_bool = False\n",
    "type(my_bool)"
   ]
  },
  {
   "cell_type": "markdown",
   "id": "4a4745f6",
   "metadata": {},
   "source": [
    "### Type Conversion\n",
    "\n",
    "The functions `int`, `float`, `str`, and `bool` can be used to convert data from one type to another."
   ]
  },
  {
   "cell_type": "code",
   "execution_count": null,
   "id": "b8ec9c26",
   "metadata": {},
   "outputs": [],
   "source": [
    "int(1.23)"
   ]
  },
  {
   "cell_type": "code",
   "execution_count": null,
   "id": "df6c6ccd",
   "metadata": {},
   "outputs": [],
   "source": [
    "float(\"4.56\")"
   ]
  },
  {
   "cell_type": "code",
   "execution_count": null,
   "id": "387b7523",
   "metadata": {},
   "outputs": [],
   "source": [
    "str(789)"
   ]
  },
  {
   "cell_type": "code",
   "execution_count": null,
   "id": "2dc79eea",
   "metadata": {},
   "outputs": [],
   "source": [
    "print(bool(0))\n",
    "print(bool(10))\n",
    "print(bool(0.0))\n",
    "print(bool(10.0))\n",
    "print(bool(\"\"))\n",
    "print(bool(\"Not Empty\"))"
   ]
  },
  {
   "cell_type": "markdown",
   "id": "cb86565d",
   "metadata": {},
   "source": [
    "### None Data Type\n",
    "\n",
    "The `None` data type is a special data type that is used for variables that have no value."
   ]
  },
  {
   "cell_type": "code",
   "execution_count": null,
   "id": "14a31514",
   "metadata": {},
   "outputs": [],
   "source": [
    "no_value = None\n",
    "type(no_value)"
   ]
  },
  {
   "cell_type": "markdown",
   "id": "33a39a9a",
   "metadata": {},
   "source": [
    "### Arithmetic Operators\n",
    "\n",
    "Arithmetic operators are used to perform mathematical calculations. Here's a list of arithmetic operators that are supported in Python\n",
    "\n",
    "| Operator | Function       | Syntax |\n",
    "| -------- | -------------- | ------ |\n",
    "| +        | Addition       | a + b  |\n",
    "| -        | Subtraction    | a - b  |\n",
    "| *        | Multiplication | a * b  |\n",
    "| /        | Division       | a / b  |\n",
    "| //       | Floor Division | a // b |\n",
    "| %        | Modulo         | a % b  |\n",
    "| **       | Power          | a ** b |"
   ]
  },
  {
   "cell_type": "code",
   "execution_count": null,
   "id": "6dc6b795",
   "metadata": {},
   "outputs": [],
   "source": [
    "a = 10\n",
    "b = 4\n",
    "\n",
    "# Addition\n",
    "a + b"
   ]
  },
  {
   "cell_type": "code",
   "execution_count": null,
   "id": "6c568b1f",
   "metadata": {},
   "outputs": [],
   "source": [
    "# Subtraction\n",
    "a - b"
   ]
  },
  {
   "cell_type": "code",
   "execution_count": null,
   "id": "d3f2d023",
   "metadata": {},
   "outputs": [],
   "source": [
    "# Multiplication\n",
    "a * b"
   ]
  },
  {
   "cell_type": "code",
   "execution_count": null,
   "id": "e9bf9e48",
   "metadata": {},
   "outputs": [],
   "source": [
    "# Division\n",
    "a / b"
   ]
  },
  {
   "cell_type": "code",
   "execution_count": null,
   "id": "31cf624d",
   "metadata": {},
   "outputs": [],
   "source": [
    "# Floor Division\n",
    "a // b"
   ]
  },
  {
   "cell_type": "code",
   "execution_count": null,
   "id": "6400b782",
   "metadata": {},
   "outputs": [],
   "source": [
    "# Modulo\n",
    "a % b"
   ]
  },
  {
   "cell_type": "code",
   "execution_count": null,
   "id": "8f3d7299",
   "metadata": {},
   "outputs": [],
   "source": [
    "# Power\n",
    "a ** b"
   ]
  },
  {
   "cell_type": "markdown",
   "id": "8202978e",
   "metadata": {},
   "source": [
    "### String Operators\n",
    "\n",
    "Some operators work differently on different types of data. For strings, the `+` operator will concatenate two strings together:"
   ]
  },
  {
   "cell_type": "code",
   "execution_count": null,
   "id": "e6533afe",
   "metadata": {},
   "outputs": [],
   "source": [
    "line_1 = 'Good night! Good night! '  # <-- Note the space at the end of this string\n",
    "line_2 = 'Parting is such sweet sorrow.'\n",
    "\n",
    "# Concatenate two strings using the + operator\n",
    "combined = line_1 + line_2\n",
    "combined"
   ]
  },
  {
   "cell_type": "markdown",
   "id": "1d77da84",
   "metadata": {},
   "source": [
    "### List Operators\n",
    "\n",
    "Similar to strings, the `+` operator can be used to combine two lists:"
   ]
  },
  {
   "cell_type": "code",
   "execution_count": null,
   "id": "bca89d12",
   "metadata": {},
   "outputs": [],
   "source": [
    "list_a = ['A', 'B', 'C']\n",
    "list_b = ['D', 'E', 'F']\n",
    "\n",
    "combined = list_a + list_b\n",
    "combined"
   ]
  },
  {
   "cell_type": "markdown",
   "id": "906c8663",
   "metadata": {},
   "source": [
    "## Lists and Tuples\n",
    "\n",
    "Lists and Tuples are data structures that can store multiple values."
   ]
  },
  {
   "cell_type": "code",
   "execution_count": null,
   "id": "b433e43e",
   "metadata": {},
   "outputs": [],
   "source": [
    "# This is a list\n",
    "odd_numbers = [1, 3, 5, 7]\n",
    "odd_numbers"
   ]
  },
  {
   "cell_type": "code",
   "execution_count": null,
   "id": "3f82a0a5",
   "metadata": {},
   "outputs": [],
   "source": [
    "# This is a tuple\n",
    "even_numbers = (2, 4, 6, 8)\n",
    "even_numbers"
   ]
  },
  {
   "cell_type": "markdown",
   "id": "2daa4330",
   "metadata": {},
   "source": [
    "Both tuples and lists can store mixed types of data:"
   ]
  },
  {
   "cell_type": "code",
   "execution_count": null,
   "id": "cb2c6730",
   "metadata": {},
   "outputs": [],
   "source": [
    "mixed_types = [\"One\", 2, 3.0, True, None]\n",
    "mixed_types"
   ]
  },
  {
   "cell_type": "markdown",
   "id": "cfec0aa9",
   "metadata": {},
   "source": [
    "### Accessing Items\n",
    "\n",
    "The items in lists and tuples are accessed using 0-based indexes as follows:"
   ]
  },
  {
   "cell_type": "code",
   "execution_count": null,
   "id": "1bfd6781",
   "metadata": {},
   "outputs": [],
   "source": [
    "letters = ['A', 'B', 'C']\n",
    "\n",
    "# The first item in a list is at index 0\n",
    "letters[0]"
   ]
  },
  {
   "cell_type": "code",
   "execution_count": null,
   "id": "e1ac03ad",
   "metadata": {},
   "outputs": [],
   "source": [
    "# The second item in a list is at index 1\n",
    "letters[1]"
   ]
  },
  {
   "cell_type": "code",
   "execution_count": null,
   "id": "7518291e",
   "metadata": {},
   "outputs": [],
   "source": [
    "# And so on...\n",
    "letters[2]"
   ]
  },
  {
   "cell_type": "markdown",
   "id": "7e8710fc",
   "metadata": {},
   "source": [
    "Negative indexes can be used to access values from the end of a list or tuple:"
   ]
  },
  {
   "cell_type": "code",
   "execution_count": null,
   "id": "3f1587b3",
   "metadata": {},
   "outputs": [],
   "source": [
    "letters = ('X', 'Y', 'Z')\n",
    "\n",
    "# The last item in a list is at index -1\n",
    "letters[-1]"
   ]
  },
  {
   "cell_type": "code",
   "execution_count": null,
   "id": "dfe34b6c",
   "metadata": {},
   "outputs": [],
   "source": [
    "# The second-to-last item is at index -2\n",
    "letters[-2]"
   ]
  },
  {
   "cell_type": "code",
   "execution_count": null,
   "id": "1d2a4eee",
   "metadata": {},
   "outputs": [],
   "source": [
    "# And so on...\n",
    "letters[-3]"
   ]
  },
  {
   "cell_type": "markdown",
   "id": "0490be9f",
   "metadata": {},
   "source": [
    "### Slicing\n",
    "\n",
    "Slicing syntax can also be used to access subsets of values in lists and tuples. Here's a quick intro to Python's slice syntax:\n",
    "\n",
    "A slice is defined like so: `[start:end]`\n",
    "\n",
    "Alternatively, specify a step as well like so: `[start:end:step]`\n",
    "\n",
    "The `start` or `end` parameter can be left off to indicate slicing from the beginning or the end, respectively.\n",
    "\n",
    "`[:end]` means to select a slice starting from the beginning of the array to the index specified.\n",
    "\n",
    "`[start:]` means to select a slice starting at the given index to the end of the array.\n",
    "\n",
    "`[:]` means to select all items."
   ]
  },
  {
   "cell_type": "code",
   "execution_count": null,
   "id": "ffbb8d50",
   "metadata": {},
   "outputs": [],
   "source": [
    "slice_me = [1, 2, 3, 4, 5, 6, 7, 8, 9, 10]\n",
    "\n",
    "# Return all items\n",
    "slice_me[:]"
   ]
  },
  {
   "cell_type": "code",
   "execution_count": null,
   "id": "2dbe6536",
   "metadata": {},
   "outputs": [],
   "source": [
    "# Access values from index 1 to, but not including, 7\n",
    "slice_me[1:7]"
   ]
  },
  {
   "cell_type": "code",
   "execution_count": null,
   "id": "9e09b34e",
   "metadata": {},
   "outputs": [],
   "source": [
    "# Access values starting at the beginning to index 5\n",
    "slice_me[:5]"
   ]
  },
  {
   "cell_type": "code",
   "execution_count": null,
   "id": "dccbd4f8",
   "metadata": {},
   "outputs": [],
   "source": [
    "# Access values starting at index 3 to the end of the array\n",
    "slice_me[3:]"
   ]
  },
  {
   "cell_type": "code",
   "execution_count": null,
   "id": "3e1fad39",
   "metadata": {
    "scrolled": true
   },
   "outputs": [],
   "source": [
    "# Return everyother element from index 1 to 8\n",
    "slice_me[1:8:2]"
   ]
  },
  {
   "cell_type": "markdown",
   "id": "66171292",
   "metadata": {},
   "source": [
    "### Update Values in Lists\n",
    "\n",
    "Values in lists can be updated using the index and assigment operator:"
   ]
  },
  {
   "cell_type": "code",
   "execution_count": null,
   "id": "b04a24a4",
   "metadata": {},
   "outputs": [],
   "source": [
    "animals = ['cow', 'dog', 'fish']\n",
    "animals[0] = 'cat'\n",
    "animals"
   ]
  },
  {
   "cell_type": "markdown",
   "id": "d4c036a7",
   "metadata": {},
   "source": [
    "### Appending Items from Lists\n",
    "\n",
    "Items can be addded to the end of lists using the `append` method:"
   ]
  },
  {
   "cell_type": "code",
   "execution_count": null,
   "id": "e6cfb9fe",
   "metadata": {},
   "outputs": [],
   "source": [
    "change_me = [1, 2, 3, 4]\n",
    "change_me"
   ]
  },
  {
   "cell_type": "code",
   "execution_count": null,
   "id": "83fdee96",
   "metadata": {},
   "outputs": [],
   "source": [
    "# Append 5 to end\n",
    "change_me.append(5)\n",
    "change_me"
   ]
  },
  {
   "cell_type": "markdown",
   "id": "977e15bc",
   "metadata": {},
   "source": [
    "### Inserting Items from Lists\n",
    "\n",
    "Items can be inserted after an index using the `insert` method:"
   ]
  },
  {
   "cell_type": "code",
   "execution_count": null,
   "id": "354bb3c8",
   "metadata": {},
   "outputs": [],
   "source": [
    "# Insert 2.5 between 2 and 3 (i.e. after index 2)\n",
    "change_me.insert(2, 2.5)\n",
    "change_me"
   ]
  },
  {
   "cell_type": "markdown",
   "id": "59f6ef07",
   "metadata": {},
   "source": [
    "### Tuples Cannot Be Modified\n",
    "\n",
    "Tuples are immutable, which means they cannot be modified. Attempting to change values or add items will **raise an error**:"
   ]
  },
  {
   "cell_type": "code",
   "execution_count": null,
   "id": "f30c469c",
   "metadata": {},
   "outputs": [],
   "source": [
    "sea_creatures = ('fish', 'dolphin', 'shark')\n",
    "\n",
    "# Trying to overwrite a value in a tuple or modify it in anyway is not permitted and will THROW AN ERROR\n",
    "# sea_creatures[2] = 'whale'"
   ]
  },
  {
   "cell_type": "markdown",
   "id": "3d4a1e8e",
   "metadata": {},
   "source": [
    "## Dictionaries\n",
    "\n",
    "A dictionary is another commonly used data structure in Python. They consist of key-value pairs:"
   ]
  },
  {
   "cell_type": "code",
   "execution_count": null,
   "id": "96079bb9",
   "metadata": {},
   "outputs": [],
   "source": [
    "person = {\n",
    "    'name': 'Linus Torvalds',\n",
    "    'occupation': 'Software Engineer',\n",
    "    'birthday': 'December 28, 1969',\n",
    "}\n",
    "\n",
    "print(person)"
   ]
  },
  {
   "cell_type": "markdown",
   "id": "986c164a",
   "metadata": {},
   "source": [
    "Keys of Python dictionary do not need to be strings, they can be any object:"
   ]
  },
  {
   "cell_type": "code",
   "execution_count": null,
   "id": "58eaac6d",
   "metadata": {},
   "outputs": [],
   "source": [
    "# The built-in datetime module contains objects for storing dates\n",
    "import datetime as dt\n",
    "\n",
    "# Forecast temperature by date\n",
    "forecast = {\n",
    "    dt.date(2021, 10, 19): 9,\n",
    "    dt.date(2021, 10, 20): 15,\n",
    "    dt.date(2021, 10, 21): 17,\n",
    "    dt.date(2021, 10, 22): 19,\n",
    "    dt.date(2021, 10, 23): 16,\n",
    "}\n",
    "\n",
    "print(forecast)"
   ]
  },
  {
   "cell_type": "markdown",
   "id": "461ded6b",
   "metadata": {},
   "source": [
    "### Accessing Items\n",
    "\n",
    "Items in dictionaries are accessed using the key:"
   ]
  },
  {
   "cell_type": "code",
   "execution_count": null,
   "id": "fe44afad",
   "metadata": {},
   "outputs": [],
   "source": [
    "person = {\n",
    "    'name': 'Steve Jobs',\n",
    "    'occupation': 'Businessman',\n",
    "    'birthday': 'February 24, 1955',\n",
    "}\n",
    "\n",
    "print(person['name'])\n",
    "print(person['occupation'])\n",
    "print(person['birthday'])"
   ]
  },
  {
   "cell_type": "markdown",
   "id": "9b9a670d",
   "metadata": {},
   "source": [
    "### Adding Items\n",
    "\n",
    "Items are added to existing dictionaries using a new key and the assigment operator:"
   ]
  },
  {
   "cell_type": "code",
   "execution_count": null,
   "id": "8cccc844",
   "metadata": {},
   "outputs": [],
   "source": [
    "# Create an empty dictionary like so:\n",
    "person = {}\n",
    "\n",
    "# If a key does not exist, it will be added automatically\n",
    "person['name'] = 'Albert Einstein'\n",
    "person['occupation'] = 'Physicist'\n",
    "person['birthday'] = 'March 14, 1879'\n",
    "\n",
    "print(person)"
   ]
  },
  {
   "cell_type": "markdown",
   "id": "feb5a34a",
   "metadata": {},
   "source": [
    "### Updating Items\n",
    "\n",
    "The values of items in dictionaries can be updated using the same notation, but with an existing key:"
   ]
  },
  {
   "cell_type": "code",
   "execution_count": null,
   "id": "b8b3d4dd",
   "metadata": {},
   "outputs": [],
   "source": [
    "person = {\n",
    "    'name': 'Brandon Sanderson',\n",
    "    'occupation': 'Student',\n",
    "    'Birthday': 'December 19, 1975'\n",
    "}\n",
    "\n",
    "print(person)\n",
    "\n",
    "# Update values using the key\n",
    "person['occupation'] = 'Author'\n",
    "\n",
    "print(person)"
   ]
  },
  {
   "cell_type": "markdown",
   "id": "10913825",
   "metadata": {},
   "source": [
    "## Conditional Statements\n",
    "\n",
    "Conditional statements are one of the primary ways you can control the flow of a program in Python. A conditional statements uses operators like ==, < and > to compare values of variables, returning the boolean value True if the condition is true and False if it is not."
   ]
  },
  {
   "cell_type": "code",
   "execution_count": null,
   "id": "4a038f92",
   "metadata": {},
   "outputs": [],
   "source": [
    "x = 10\n",
    "\n",
    "# The equality operator (==) is used to test if two values are equal\n",
    "print(x == 10)  # Evaluates True\n",
    "\n",
    "# The not equals (!=) operator can be used to verify two values are not equal\n",
    "print(x != 10)  # Evaluates False\n",
    "\n",
    "# Other conditional operators include the less than (<) and greater than (>) operators\n",
    "print(x > 0)  # Evaluates True\n",
    "print(x < 5)  # Evaluates False\n",
    "\n",
    "# Python also supports the less than or equal to (<=) and greater than or equal to (>=) operators\n",
    "print(x >= 10)  # Evaluates True\n",
    "print(x <= 5)  # Evaluates False"
   ]
  },
  {
   "cell_type": "markdown",
   "id": "41ad7bbc",
   "metadata": {},
   "source": [
    "## The `and` and `or` Operators\n",
    "\n",
    "For more complex conditional checks, the `and` and `or` operators can be used to combine checks:"
   ]
  },
  {
   "cell_type": "code",
   "execution_count": null,
   "id": "a43211ea",
   "metadata": {},
   "outputs": [],
   "source": [
    "animal = 'dog'\n",
    "weight = 70\n",
    "\n",
    "# Two conditions joined by \"and\" will return True only if both conditions are True\n",
    "print(\"Is the animal a dog and large?\")\n",
    "animal == 'dog' and weight > 60"
   ]
  },
  {
   "cell_type": "code",
   "execution_count": null,
   "id": "cc8a992f",
   "metadata": {},
   "outputs": [],
   "source": [
    "# Two conditions joined by \"or\" will return True if either condition is True\n",
    "print(\"Is the animal a dog or a cat?\")\n",
    "animal == 'cat' or animal == 'dog'"
   ]
  },
  {
   "cell_type": "markdown",
   "id": "99fb7700",
   "metadata": {},
   "source": [
    "## The `in` Operator\n",
    "\n",
    "The `in` operator in Python can be used to check if a value is contained in a container object such as a `list` or `tuple`:"
   ]
  },
  {
   "cell_type": "code",
   "execution_count": null,
   "id": "ee05c6b7",
   "metadata": {},
   "outputs": [],
   "source": [
    "classes = ['algebra', 'hydrology', 'dance', 'bowling']\n",
    "\n",
    "print(\"Do I have hydrology class this semester?\")\n",
    "'hydrology' in classes"
   ]
  },
  {
   "cell_type": "markdown",
   "id": "77ddd1da",
   "metadata": {},
   "source": [
    "When used with a dictionary, the `in` operator compares against the **keys** of the dictionary:"
   ]
  },
  {
   "cell_type": "code",
   "execution_count": null,
   "id": "21fe6d72",
   "metadata": {},
   "outputs": [],
   "source": [
    "animal_populations = dict(\n",
    "    lion=23_000,\n",
    "    giraffe=117_000,\n",
    "    elephant=415_000,\n",
    "    black_rhino=5_000,\n",
    ")\n",
    "\n",
    "print('giraffe' in animal_populations)\n",
    "print('crocodile' in animal_populations)"
   ]
  },
  {
   "cell_type": "markdown",
   "id": "f99e7d46",
   "metadata": {},
   "source": [
    "## The `not` Operator\n",
    "\n",
    "The `not` operator is used to negate or reverse a conditional statement it proceeds:"
   ]
  },
  {
   "cell_type": "code",
   "execution_count": null,
   "id": "03ef0d8b",
   "metadata": {},
   "outputs": [],
   "source": [
    "x = 10\n",
    "\n",
    "not x > 20"
   ]
  },
  {
   "cell_type": "code",
   "execution_count": null,
   "id": "d5089146",
   "metadata": {},
   "outputs": [],
   "source": [
    "makes = ['hyundai', 'toyota', 'honda']\n",
    "\n",
    "'tesla' not in makes"
   ]
  },
  {
   "cell_type": "markdown",
   "id": "2e374d52",
   "metadata": {},
   "source": [
    "## Loops\n",
    "\n",
    "Loops are used in programming to perform repetative tasks. Python supports two different types of loops: a `for` loop and a `while` loop."
   ]
  },
  {
   "cell_type": "markdown",
   "id": "eecffc1d",
   "metadata": {},
   "source": [
    "### The `for` Loop\n",
    "\n",
    "Python `for` loops are used to loop through each item in a sequence such as a list, tuple, or string. A loop variable is defined as part of the for loop to store the current item for each pass through the loop:"
   ]
  },
  {
   "cell_type": "code",
   "execution_count": null,
   "id": "9bab2603",
   "metadata": {},
   "outputs": [],
   "source": [
    "animals = ['dog', 'cat', 'bird', 'fish']\n",
    "\n",
    "# The loop variable \"animal\" stores the current item from the list \"animals\" for each pass through the loop\n",
    "for animal in animals:\n",
    "    print(animal)"
   ]
  },
  {
   "cell_type": "markdown",
   "id": "f3230522",
   "metadata": {},
   "source": [
    "Looping through a dictionary, will loop through it's keys, which can be used to access items in the loop:"
   ]
  },
  {
   "cell_type": "code",
   "execution_count": null,
   "id": "8edfb335",
   "metadata": {},
   "outputs": [],
   "source": [
    "animal_populations = dict(\n",
    "    lion=23_000,\n",
    "    giraffe=117_000,\n",
    "    elephant=415_000,\n",
    "    black_rhino=5_000,\n",
    ")\n",
    "\n",
    "for key in animal_populations:\n",
    "    # The current key is stored in the loop variable\n",
    "    print(key)\n",
    "    \n",
    "    # Use the key to look up the value\n",
    "    print(animal_populations[key])"
   ]
  },
  {
   "cell_type": "markdown",
   "id": "daa4fac8",
   "metadata": {},
   "source": [
    "Alternatively, you can use the `items` method to loop through the keys and values at the same time:"
   ]
  },
  {
   "cell_type": "code",
   "execution_count": null,
   "id": "8ade29f4",
   "metadata": {},
   "outputs": [],
   "source": [
    "animal_populations = dict(\n",
    "    lion=23_000,\n",
    "    giraffe=117_000,\n",
    "    elephant=415_000,\n",
    "    black_rhino=5_000,\n",
    ")\n",
    "\n",
    "for key, value in animal_populations.items():\n",
    "    # Current key\n",
    "    print(key)\n",
    "    \n",
    "    # Value of the current key\n",
    "    print(value)"
   ]
  },
  {
   "cell_type": "markdown",
   "id": "2cc551c5",
   "metadata": {},
   "source": [
    "### The `while` Loop\n",
    "\n",
    "A `while` loop is used to perform a repetative task until a condition is met."
   ]
  },
  {
   "cell_type": "code",
   "execution_count": null,
   "id": "0888020c",
   "metadata": {},
   "outputs": [],
   "source": [
    "x = 0\n",
    "\n",
    "# Loop while the value of x is less than 5\n",
    "while x < 5:\n",
    "    print(x)\n",
    "    \n",
    "    # Don't forget to increment x or the loop will go on forever!\n",
    "    x += 1"
   ]
  },
  {
   "cell_type": "markdown",
   "id": "ba18a67d",
   "metadata": {},
   "source": [
    "### The `break` Statement\n",
    "\n",
    "The `break` statement can be used within a `for` or `while` loop to exit the loop permaturely. This is often used to exit a loop when some condition is met or an error occurs."
   ]
  },
  {
   "cell_type": "code",
   "execution_count": null,
   "id": "6b8146e5",
   "metadata": {},
   "outputs": [],
   "source": [
    "word = 'PYTH0N'\n",
    "\n",
    "# Loop through each character in a string\n",
    "for letter in word:\n",
    "    # If the letter is numeric, end the loop\n",
    "    if letter.isnumeric():\n",
    "        print(f'{letter} is a number!')\n",
    "        break\n",
    "    \n",
    "    print(f'Current letter: {letter}')"
   ]
  },
  {
   "cell_type": "markdown",
   "id": "c4fbb916",
   "metadata": {},
   "source": [
    "### The `continue` Statement\n",
    "\n",
    "The `continue` statement can be used within a `for` or `while` loop to skip the rest of the current iteration and start the next iteration."
   ]
  },
  {
   "cell_type": "code",
   "execution_count": null,
   "id": "e9c58a82",
   "metadata": {},
   "outputs": [],
   "source": [
    "word = 'PYTH0N'\n",
    "\n",
    "# Loop through each character in a string\n",
    "for letter in word:\n",
    "    # If the letter is numeric, skip it the loop\n",
    "    if letter.isnumeric():\n",
    "        print(f'{letter} is a number!')\n",
    "        continue\n",
    "    \n",
    "    print(f'Current letter: {letter}')"
   ]
  },
  {
   "cell_type": "markdown",
   "id": "8abbdaf8",
   "metadata": {},
   "source": [
    "## Functions\n",
    "\n",
    "Functions are a way group and organize your code. Splitting your code into functions can make it more easy to follow and more reusable. Here is an example of a function that will add two numbers:"
   ]
  },
  {
   "cell_type": "code",
   "execution_count": null,
   "id": "f90f5b5d",
   "metadata": {},
   "outputs": [],
   "source": [
    "def add(a, b):\n",
    "    \"\"\"Add two numbers.\"\"\"\n",
    "    sum = a + b\n",
    "    return sum\n",
    "\n",
    "result = add(1, 1)\n",
    "\n",
    "print(result)"
   ]
  },
  {
   "cell_type": "markdown",
   "id": "da765ede",
   "metadata": {},
   "source": [
    "### Anatomy of a Function\n",
    "\n",
    "The `add` function defined above provides an example of all of the major parts of a function in Python:\n",
    "\n",
    "* `def`: the keyword that is used to tell Python you are about to define a function.\n",
    "* `add`: the name of the function.\n",
    "* `(a, b)`: arguments of the function, variables that are used to pass values into the function.\n",
    "* `:`: the definition line of a function should always end with a `:`, don't forget it!\n",
    "* `\"\"\"Add two numbers.\"\"\"`: The documentation or doc string that describes the function, not required but a good idea.\n",
    "* `sum = a + b`: the logic of the function. Functions can have as many lines of logic as are needed.\n",
    "* `return`: A keyword that is used to return a value from the function."
   ]
  },
  {
   "cell_type": "markdown",
   "id": "2cf5664d",
   "metadata": {},
   "source": [
    "### Calling Functions\n",
    "\n",
    "When a function is run or executed, it is said to be \"called\". Calling a function is done with parenthesis `()`. Notice how running this next block doesn't do anything (The message in the `print` statement is not printed)."
   ]
  },
  {
   "cell_type": "code",
   "execution_count": null,
   "id": "43d783aa",
   "metadata": {},
   "outputs": [],
   "source": [
    "def call_me():\n",
    "    print(\"I've been called.\")"
   ]
  },
  {
   "cell_type": "markdown",
   "id": "e61ccb61",
   "metadata": {},
   "source": [
    "The code inside the function won't be executed until the function is called:"
   ]
  },
  {
   "cell_type": "code",
   "execution_count": null,
   "id": "26ec7884",
   "metadata": {},
   "outputs": [],
   "source": [
    "call_me()"
   ]
  },
  {
   "cell_type": "markdown",
   "id": "78383533",
   "metadata": {},
   "source": [
    "### Arguments\n",
    "\n",
    "Values can be passed to functions using arguments (args) and keyword arguments (kwargs). Keyword arguments are arguments with a default value and are optional."
   ]
  },
  {
   "cell_type": "code",
   "execution_count": null,
   "id": "309a6936",
   "metadata": {},
   "outputs": [],
   "source": [
    "def some_function(arg1, arg2, kwarg1='c', kwarg2='d'):\n",
    "    print(f'arg1: {arg1}')\n",
    "    print(f'arg2: {arg2}')\n",
    "    print(f'kwarg1: {kwarg1}')\n",
    "    print(f'kwarg2: {kwarg2}')\n",
    "\n",
    "# Args must be given and in order\n",
    "some_function('a', 'b')"
   ]
  },
  {
   "cell_type": "markdown",
   "id": "d75e41c7",
   "metadata": {},
   "source": [
    "### Return Values\n",
    "\n",
    "Values can be returned by functions using the `return` keyword:"
   ]
  },
  {
   "cell_type": "code",
   "execution_count": null,
   "id": "51a25132",
   "metadata": {},
   "outputs": [],
   "source": [
    "def double(x):\n",
    "    \"\"\"Double the given value.\"\"\"\n",
    "    return 2 * x\n",
    "\n",
    "result = double(5)\n",
    "print(result)"
   ]
  }
 ],
 "metadata": {
  "kernelspec": {
   "display_name": "Python 3 (ipykernel)",
   "language": "python",
   "name": "python3"
  },
  "language_info": {
   "codemirror_mode": {
    "name": "ipython",
    "version": 3
   },
   "file_extension": ".py",
   "mimetype": "text/x-python",
   "name": "python",
   "nbconvert_exporter": "python",
   "pygments_lexer": "ipython3",
   "version": "3.8.11"
  }
 },
 "nbformat": 4,
 "nbformat_minor": 5
}
