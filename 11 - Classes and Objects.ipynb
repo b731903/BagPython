{
 "cells": [
  {
   "cell_type": "markdown",
   "id": "41c82fe9",
   "metadata": {},
   "source": [
    "# Classes and Objects\n",
    "\n",
    "Python is an object oriented language, meaning that it is designed to be used with objects. Almost everything is an object in Python. For example, strings, numbers, and functions are all objects. But what are objects? Here are a few definitions:\n",
    "\n",
    "* An **object** is a data structure that contains related data and methods to act on that data.\n",
    "* A **class** is like a blueprint or plan for an object and is used to create an object."
   ]
  },
  {
   "cell_type": "markdown",
   "id": "a97187d1",
   "metadata": {},
   "source": [
    "## Classes\n",
    "\n",
    "Here is an example of a simple class that defines an object for storing information about an animal:"
   ]
  },
  {
   "cell_type": "code",
   "execution_count": null,
   "id": "928de1dd",
   "metadata": {},
   "outputs": [],
   "source": [
    "class Animal:\n",
    "    name = 'Spot'\n",
    "    kind = 'dog'\n",
    "    weight = 30\n",
    "    age = 3\n",
    "    onomatopoeia = 'woof'\n",
    "\n",
    "    def speak(self):\n",
    "        print(self.onomatopoeia)"
   ]
  },
  {
   "cell_type": "markdown",
   "id": "6630278c",
   "metadata": {},
   "source": [
    "### Properties and Methods\n",
    "\n",
    "The variables defined inside the class are called **properties** (e.g.: `name`, `kind`, `weight`). A function defined inside a class is called a **method** (e.g. `speak`). \n",
    "\n",
    "### Self\n",
    "\n",
    "Notice how the `speak` method has an argument named `self`. All methods in classes should have `self` as the first argument. It recieves a reference to itself so it can perform operations on its data."
   ]
  },
  {
   "cell_type": "markdown",
   "id": "c8f8eab0",
   "metadata": {},
   "source": [
    "## Objects\n",
    "\n",
    "A new object can be created from the class by calling it:"
   ]
  },
  {
   "cell_type": "code",
   "execution_count": null,
   "id": "c559e1b0",
   "metadata": {},
   "outputs": [],
   "source": [
    "my_pet = Animal()\n",
    "\n",
    "print(my_pet)"
   ]
  },
  {
   "cell_type": "markdown",
   "id": "ba64d525",
   "metadata": {},
   "source": [
    "### Attributes\n",
    "\n",
    "Objects have **attributes** that can be accessed using dot-notation. The attributes of an object are assigned default values from the properties of the class."
   ]
  },
  {
   "cell_type": "code",
   "execution_count": null,
   "id": "9acc2342",
   "metadata": {},
   "outputs": [],
   "source": [
    "print(my_pet.name)\n",
    "print(my_pet.kind)\n",
    "print(my_pet.weight)\n",
    "print(my_pet.age)"
   ]
  },
  {
   "cell_type": "markdown",
   "id": "df8d93d6",
   "metadata": {},
   "source": [
    "The value of an attribute can be overwritten by assigning a new value to it:"
   ]
  },
  {
   "cell_type": "code",
   "execution_count": null,
   "id": "4886c529",
   "metadata": {},
   "outputs": [],
   "source": [
    "my_pet.name = 'Fido'\n",
    "print(my_pet.name)"
   ]
  },
  {
   "cell_type": "markdown",
   "id": "7bed2d7a",
   "metadata": {},
   "source": [
    "New attributes can be assigned to an object using dot notation as well:"
   ]
  },
  {
   "cell_type": "code",
   "execution_count": null,
   "id": "209f0f5d",
   "metadata": {},
   "outputs": [],
   "source": [
    "my_pet.coat_color = 'brown'\n",
    "print(my_pet.coat_color)"
   ]
  },
  {
   "cell_type": "markdown",
   "id": "1b6d3d63",
   "metadata": {},
   "source": [
    "### Methods\n",
    "\n",
    "Objects created from classes will also have the methods defined in the class. The methods of an object can be called like normal functions, but using dot notation:"
   ]
  },
  {
   "cell_type": "code",
   "execution_count": null,
   "id": "997fa6d3",
   "metadata": {},
   "outputs": [],
   "source": [
    "my_pet.speak()"
   ]
  },
  {
   "cell_type": "markdown",
   "id": "ed37bc7d",
   "metadata": {},
   "source": [
    "## The __init__ Method\n",
    "\n",
    "Some methods on classes are special because they are used to implement specific features of the classes or objects. These methods begin and end with two underscores. One such method is the method called `__init__`, often called the constructor. The `__init__` method is used to initialize an object when the class is called. Any arguments defined for the `__init__` method are passed to the class when calling it. Consider this variation on the Animal class:"
   ]
  },
  {
   "cell_type": "code",
   "execution_count": null,
   "id": "1a82b313",
   "metadata": {},
   "outputs": [],
   "source": [
    "class Dog:\n",
    "    kind = 'dog'\n",
    "\n",
    "    def __init__(self, name, weight=30, age=3, onomatopoeia='woof'):\n",
    "        self.name = name\n",
    "        self.weight = weight\n",
    "        self.age = age\n",
    "        self.onomatopoeia = onomatopoeia\n",
    "\n",
    "    def speak(self):\n",
    "        print(self.onomatopoeia)"
   ]
  },
  {
   "cell_type": "markdown",
   "id": "2eb83a99",
   "metadata": {},
   "source": [
    "Instead of defining properties on the class, attributes are assigned to the object when `__init__` is called using the arguments provided:"
   ]
  },
  {
   "cell_type": "code",
   "execution_count": null,
   "id": "479daa89",
   "metadata": {
    "scrolled": true
   },
   "outputs": [],
   "source": [
    "fido = Dog('Fido')\n",
    "\n",
    "print(f'Name: {fido.name}')\n",
    "print(f'Kind: {fido.kind}')\n",
    "print('Speak:')\n",
    "fido.speak()"
   ]
  },
  {
   "cell_type": "code",
   "execution_count": null,
   "id": "dcbde5c0",
   "metadata": {},
   "outputs": [],
   "source": [
    "milo = Dog('Milo', onomatopoeia='bark')\n",
    "\n",
    "print(f'Name: {milo.name}')\n",
    "print(f'Kind: {milo.kind}')\n",
    "print('Speak:')\n",
    "milo.speak()"
   ]
  },
  {
   "cell_type": "markdown",
   "id": "349f9bae",
   "metadata": {},
   "source": [
    "# Exercise\n",
    "\n",
    "Create a class to store information about a person with the following requirements:\n",
    "\n",
    "1. The class should be called `Person`\n",
    "1. The class should have a constructor method (__init__) that takes the following arguments: `name`, `birthday`, `height`, `weight`.\n",
    "1. The constructor method (__init__) should assign each value given to an attribute with the same name.\n",
    "1. The class should define a method called `introduce` that when called will print `\"Hello, my name is <name>\"`.\n",
    "1. Create two objects with different names using the `Person` class.\n",
    "1. Call the `introduce` method on each object.\n",
    "   "
   ]
  },
  {
   "cell_type": "code",
   "execution_count": null,
   "id": "0224cf62",
   "metadata": {},
   "outputs": [],
   "source": [
    "# Your code here"
   ]
  }
 ],
 "metadata": {
  "kernelspec": {
   "display_name": "Python 3 (ipykernel)",
   "language": "python",
   "name": "python3"
  },
  "language_info": {
   "codemirror_mode": {
    "name": "ipython",
    "version": 3
   },
   "file_extension": ".py",
   "mimetype": "text/x-python",
   "name": "python",
   "nbconvert_exporter": "python",
   "pygments_lexer": "ipython3",
   "version": "3.8.11"
  }
 },
 "nbformat": 4,
 "nbformat_minor": 5
}
