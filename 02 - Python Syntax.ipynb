{
 "cells": [
  {
   "cell_type": "markdown",
   "id": "1127e712",
   "metadata": {},
   "source": [
    "# Python Syntax\n",
    "\n",
    "Syntax refers to the rules that define how code should be written and structured for a particular language. This is similar to how different written languages have different grammar rules. Every programming language has different rules and Python is different than most in a few important ways.\n",
    "\n",
    "## Indentation\n",
    "\n",
    "The biggest difference between Python and many other programming languages is its use of indentation. In most other programming languages spaces are only used for readabilty and do not affect the operation of the code. However, in Python, indentation is important because it marks different sections of the code called **scope**.\n",
    "\n",
    "Scope can be denoted in Python using either a tab or four spaces, but four spaces is recommended. Whichever you choose, it is important to be consistent. *Don't mix tabs and spaces in a Python program*."
   ]
  },
  {
   "cell_type": "code",
   "execution_count": null,
   "id": "6745fc80",
   "metadata": {},
   "outputs": [],
   "source": [
    "i_like_python = True\n",
    "\n",
    "# 4-spaces are used to differentiate the \"then\" part of an \"if\" statement\n",
    "if i_like_python:\n",
    "    print(\"I like Python!\")\n",
    "\n",
    "# This line is not part of the \"if\" statement b/c it is not indented at the same level\n",
    "print(\"I'll only use spaces!\")"
   ]
  },
  {
   "cell_type": "markdown",
   "id": "009fd855",
   "metadata": {},
   "source": [
    "## Comments\n",
    "\n",
    "Comments are used in programming to add notes to code, usually to remind developers of important details that may not be aparent by reading the code. In Python a comment is denoted using the `#` symbol. Everything after the `#` is ignored by Python.\n"
   ]
  },
  {
   "cell_type": "code",
   "execution_count": null,
   "id": "ff0e0285",
   "metadata": {},
   "outputs": [],
   "source": [
    "# This is a comment. Best practice is to start a comment with a # and a single space.\n",
    "# Python does not have a multi-line comment like some programming languages.\n",
    "# Use multiple lines with # to write a multi-line comment.\n",
    "print('The message in this line will be printed.')\n",
    "\n",
    "# print('The message in this line will not be printed because it is \"commented out\".')"
   ]
  },
  {
   "cell_type": "markdown",
   "id": "cd84e514",
   "metadata": {},
   "source": [
    "## Doc Strings and Multiline Strings\n",
    "\n",
    "Although Python does not have a multiline comment, it does have a multiline string and doc strings (short for documentation strings).\n",
    "\n",
    "\n",
    "### Multiline String\n",
    "\n",
    "A multiline string is demarkated using three quotes (single or double quotes are both supported) like so:"
   ]
  },
  {
   "cell_type": "code",
   "execution_count": null,
   "id": "a9c6c4df",
   "metadata": {},
   "outputs": [],
   "source": [
    "multiline_string = \"\"\"This string has multiple lines\n",
    "                      and white space will be preserved.\"\"\"\n",
    "\n",
    "another_multiline_string = '''To avoid the indentation additional lines \n",
    "should line up with the variable name.'''\n",
    "\n",
    "print(multiline_string)\n",
    "print(another_multiline_string)"
   ]
  },
  {
   "cell_type": "markdown",
   "id": "9dcd8bc0",
   "metadata": {},
   "source": [
    "### Doc String\n",
    "\n",
    "A doc string is like a multiline string, but it is written at the top of a file or after a function or class definition and usually describes the file, function, or class. Python will automatically assign the doc string as the help text of the file, function, or class. To see the help text for any object in Python, use the built-in function `help`:"
   ]
  },
  {
   "cell_type": "code",
   "execution_count": null,
   "id": "685b26df",
   "metadata": {},
   "outputs": [],
   "source": [
    "def my_function():\n",
    "    \"\"\"This function does stuff.\"\"\"\n",
    "    pass\n",
    "\n",
    "help(my_function)"
   ]
  }
 ],
 "metadata": {
  "kernelspec": {
   "display_name": "Python 3 (ipykernel)",
   "language": "python",
   "name": "python3"
  },
  "language_info": {
   "codemirror_mode": {
    "name": "ipython",
    "version": 3
   },
   "file_extension": ".py",
   "mimetype": "text/x-python",
   "name": "python",
   "nbconvert_exporter": "python",
   "pygments_lexer": "ipython3",
   "version": "3.8.11"
  }
 },
 "nbformat": 4,
 "nbformat_minor": 5
}
