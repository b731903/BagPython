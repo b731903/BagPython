{
 "cells": [
  {
   "cell_type": "markdown",
   "id": "44f0a20d",
   "metadata": {},
   "source": [
    "# Functions\n",
    "\n",
    "Functions are a way group and organize your code. Splitting your code into functions can make it more easy to follow and more reusable. Here is an example of a function that will add two numbers:"
   ]
  },
  {
   "cell_type": "code",
   "execution_count": null,
   "id": "467d0bce",
   "metadata": {},
   "outputs": [],
   "source": [
    "def add(a, b):\n",
    "    \"\"\"Add two numbers.\"\"\"\n",
    "    sum = a + b\n",
    "    return sum\n",
    "\n",
    "result = add(1, 1)\n",
    "\n",
    "print(result)"
   ]
  },
  {
   "cell_type": "markdown",
   "id": "ff272172",
   "metadata": {},
   "source": [
    "## Anatomy of a Function\n",
    "\n",
    "The `add` function defined above provides an example of all of the major parts of a function in Python:\n",
    "\n",
    "* `def`: the keyword that is used to tell Python you are about to define a function.\n",
    "* `add`: the name of the function.\n",
    "* `(a, b)`: arguments of the function, variables that are used to pass values into the function.\n",
    "* `:`: the definition line of a function should always end with a `:`, don't forget it!\n",
    "* `\"\"\"Add two numbers.\"\"\"`: The documentation or doc string that describes the function, not required but a good idea.\n",
    "* `sum = a + b`: the logic of the function. Functions can have as many lines of logic as are needed.\n",
    "* `return`: A keyword that is used to return a value from the function.\n",
    "\n",
    "## Arguments Not Required\n",
    "\n",
    "Functions are not required to have arguments or return a value:"
   ]
  },
  {
   "cell_type": "code",
   "execution_count": null,
   "id": "3b75d7db",
   "metadata": {},
   "outputs": [],
   "source": [
    "def say_hello():\n",
    "    print('Hello!')\n",
    "\n",
    "say_hello()"
   ]
  },
  {
   "cell_type": "markdown",
   "id": "3c475558",
   "metadata": {},
   "source": [
    "## Calling Functions\n",
    "\n",
    "When a function is run or executed, it is said to be \"called\". Calling a function is done with parenthesis `()`. Notice how running this next block doesn't do anything (The message in the `print` statement is not printed)."
   ]
  },
  {
   "cell_type": "code",
   "execution_count": null,
   "id": "27d7a721",
   "metadata": {},
   "outputs": [],
   "source": [
    "def call_me():\n",
    "    print(\"I've been called.\")"
   ]
  },
  {
   "cell_type": "markdown",
   "id": "7d724a01",
   "metadata": {},
   "source": [
    "The code inside the function won't be executed until the function is called:"
   ]
  },
  {
   "cell_type": "code",
   "execution_count": null,
   "id": "ac5ab3c3",
   "metadata": {},
   "outputs": [],
   "source": [
    "call_me()"
   ]
  },
  {
   "cell_type": "markdown",
   "id": "54060527",
   "metadata": {},
   "source": [
    "## Args and Kwargs\n",
    "\n",
    "The arguments in functions can have default values assigned to them. When this is the case, they are said to be keyword arguments or \"kwargs\"."
   ]
  },
  {
   "cell_type": "code",
   "execution_count": null,
   "id": "ec4c3dcf",
   "metadata": {},
   "outputs": [],
   "source": [
    "def say_hello(language='english'):\n",
    "    if language == 'english':\n",
    "        print('Hello!')\n",
    "    elif language == 'spanish':\n",
    "        print('Hola!')\n",
    "\n",
    "say_hello()\n",
    "say_hello('spanish')"
   ]
  },
  {
   "cell_type": "markdown",
   "id": "042feabb",
   "metadata": {},
   "source": [
    "The arguments without default values are often called positional arguments because the values assigned to them are based on the order of the values passed into the function. They are also called \"args\" for short. All args must be defined before kwargs."
   ]
  },
  {
   "cell_type": "code",
   "execution_count": null,
   "id": "75540add",
   "metadata": {
    "scrolled": true
   },
   "outputs": [],
   "source": [
    "def some_function(arg1, arg2, kwarg1='c', kwarg2='d'):\n",
    "    print(f'arg1: {arg1}')\n",
    "    print(f'arg2: {arg2}')\n",
    "    print(f'kwarg1: {kwarg1}')\n",
    "    print(f'kwarg2: {kwarg2}')\n",
    "\n",
    "# Args must be given and in order\n",
    "some_function('a', 'b')"
   ]
  },
  {
   "cell_type": "markdown",
   "id": "8a61aff4",
   "metadata": {},
   "source": [
    "Kwargs can be assigned based on position, like kwargs:"
   ]
  },
  {
   "cell_type": "code",
   "execution_count": null,
   "id": "b4849fe8",
   "metadata": {},
   "outputs": [],
   "source": [
    "some_function('e', 'f', 'g', 'h')"
   ]
  },
  {
   "cell_type": "markdown",
   "id": "37d8fb1e",
   "metadata": {},
   "source": [
    "Args and kwargs can be given in any order when the keyword is specified:"
   ]
  },
  {
   "cell_type": "code",
   "execution_count": null,
   "id": "1964199f",
   "metadata": {},
   "outputs": [],
   "source": [
    "some_function(kwarg2='l', kwarg1='k', arg2='j', arg1='i')"
   ]
  },
  {
   "cell_type": "markdown",
   "id": "c92a6469",
   "metadata": {},
   "source": [
    "## Return Values\n",
    "\n",
    "Multiple values can be returned by a function. They are returned in a tuple."
   ]
  },
  {
   "cell_type": "code",
   "execution_count": null,
   "id": "bfc2628a",
   "metadata": {},
   "outputs": [],
   "source": [
    "def swap(a, b):\n",
    "    \"\"\"Return two values in the opposite order they are given.\"\"\"\n",
    "    return b, a\n",
    "\n",
    "result = swap(1, 2)\n",
    "print(result)"
   ]
  },
  {
   "cell_type": "markdown",
   "id": "c498e104",
   "metadata": {},
   "source": [
    "You can use the unpacking feature of Python to automatically split up the returned tuple into multiple values for convenience:"
   ]
  },
  {
   "cell_type": "code",
   "execution_count": null,
   "id": "8db14bf9",
   "metadata": {},
   "outputs": [],
   "source": [
    "c, d = swap(1, 2)\n",
    "print(c)\n",
    "print(d)"
   ]
  },
  {
   "cell_type": "markdown",
   "id": "c91df250",
   "metadata": {},
   "source": [
    "## Function Objects\n",
    "\n",
    "Functions, like everything else in Python, are objects."
   ]
  },
  {
   "cell_type": "code",
   "execution_count": null,
   "id": "1919be62",
   "metadata": {},
   "outputs": [],
   "source": [
    "def double(x):\n",
    "    \"\"\"Double the given value.\"\"\"\n",
    "    return 2 * x\n",
    "\n",
    "# Notice how the next lines are not calling the function\n",
    "print(double)\n",
    "print(type(double))"
   ]
  },
  {
   "cell_type": "markdown",
   "id": "171759dc",
   "metadata": {},
   "source": [
    "This means that functions can be assigned to variables, stored as values in lists and dictionaries, and passed as arguments to other functions."
   ]
  },
  {
   "cell_type": "code",
   "execution_count": null,
   "id": "c3d8076c",
   "metadata": {},
   "outputs": [],
   "source": [
    "some_func = double\n",
    "\n",
    "print(some_func)"
   ]
  },
  {
   "cell_type": "code",
   "execution_count": null,
   "id": "0b55b13d",
   "metadata": {},
   "outputs": [],
   "source": [
    "a = 2\n",
    "b = 4\n",
    "\n",
    "function_lookup = {\n",
    "    'double': double,\n",
    "    'add': add,\n",
    "    'swap': swap\n",
    "}\n",
    "\n",
    "print(function_lookup['double'](a))\n",
    "print(function_lookup['add'](a, b))\n",
    "print(function_lookup['swap'](a, b))"
   ]
  },
  {
   "cell_type": "code",
   "execution_count": null,
   "id": "1a2aa60d",
   "metadata": {},
   "outputs": [],
   "source": [
    "def call_multiple(numbers, func):\n",
    "    \"\"\"Call given function func once for each number given in list of numbers.\"\"\"\n",
    "    for number in numbers:\n",
    "        # Call the given function\n",
    "        result = func(number)\n",
    "        print(result)\n",
    "\n",
    "# Call double on each of the numbers\n",
    "call_multiple([1, 2, 3, 4], double)"
   ]
  },
  {
   "cell_type": "markdown",
   "id": "ffefd458",
   "metadata": {},
   "source": [
    "# Exercise\n",
    "\n",
    "Create a function with the following requirements:\n",
    "\n",
    "1. It must accept 3 arguments: `name`, `age`, and `occupation`.\n",
    "1. Provide a default value for the `occupation` argument (your choice).\n",
    "1. The function should create a dictionary with the keys `\"name\"`, `\"age\"`, and `\"occupation\"` and values assigned from the given arguments.\n",
    "1. It should return the dictionary.\n",
    "1. Call the function and print the result."
   ]
  },
  {
   "cell_type": "code",
   "execution_count": null,
   "id": "a486543d",
   "metadata": {},
   "outputs": [],
   "source": [
    "# Your code here"
   ]
  }
 ],
 "metadata": {
  "kernelspec": {
   "display_name": "Python 3 (ipykernel)",
   "language": "python",
   "name": "python3"
  },
  "language_info": {
   "codemirror_mode": {
    "name": "ipython",
    "version": 3
   },
   "file_extension": ".py",
   "mimetype": "text/x-python",
   "name": "python",
   "nbconvert_exporter": "python",
   "pygments_lexer": "ipython3",
   "version": "3.8.11"
  }
 },
 "nbformat": 4,
 "nbformat_minor": 5
}
