{
 "cells": [
  {
   "cell_type": "markdown",
   "id": "2e7af192",
   "metadata": {},
   "source": [
    "# Lists\n",
    "\n",
    "A `list` in Python is similar to an array in other programming languages. As its name implies, it can be used to store a list of values. A `list` can be created using square brackets `[]` or the `list` function like so:"
   ]
  },
  {
   "cell_type": "code",
   "execution_count": null,
   "id": "5e77424e",
   "metadata": {},
   "outputs": [],
   "source": [
    "# The list function can be used to define a list\n",
    "odd_numbers = list([3, 5, 7, 9])\n",
    "odd_numbers"
   ]
  },
  {
   "cell_type": "code",
   "execution_count": null,
   "id": "9191118b",
   "metadata": {},
   "outputs": [],
   "source": [
    "# Square brackets can be used as a short-hand for defining lists\n",
    "even_numbers = [2, 4, 6, 8]\n",
    "even_numbers"
   ]
  },
  {
   "cell_type": "markdown",
   "id": "049fc076",
   "metadata": {},
   "source": [
    "A `list` can store any Python object and it can contain items with different types of data."
   ]
  },
  {
   "cell_type": "code",
   "execution_count": null,
   "id": "2180dc13",
   "metadata": {},
   "outputs": [],
   "source": [
    "# Lists can store strings\n",
    "names = [\"John\", \"Jacob\", \"Jingleheimer\", \"Schmidt\"]\n",
    "names"
   ]
  },
  {
   "cell_type": "code",
   "execution_count": null,
   "id": "c8a2b827",
   "metadata": {},
   "outputs": [],
   "source": [
    "# Lists can contain items of mixed types\n",
    "mixed_types = [\"One\", 1, 1.0, True, None]\n",
    "mixed_types"
   ]
  },
  {
   "cell_type": "markdown",
   "id": "befc6553",
   "metadata": {},
   "source": [
    "## Access Items\n",
    "\n",
    "Individual items can be accessed in a `list` using integer indexes to refer to their positions as follows:"
   ]
  },
  {
   "cell_type": "code",
   "execution_count": null,
   "id": "494b512a",
   "metadata": {
    "scrolled": true
   },
   "outputs": [],
   "source": [
    "letters = ['A', 'B', 'C']\n",
    "\n",
    "# The first item in a list is at index 0\n",
    "letters[0]"
   ]
  },
  {
   "cell_type": "code",
   "execution_count": null,
   "id": "d20cc74f",
   "metadata": {},
   "outputs": [],
   "source": [
    "# The second item in a list is at index 1\n",
    "letters[1]"
   ]
  },
  {
   "cell_type": "code",
   "execution_count": null,
   "id": "a3c51394",
   "metadata": {},
   "outputs": [],
   "source": [
    "# And so on...\n",
    "letters[2]"
   ]
  },
  {
   "cell_type": "markdown",
   "id": "b395134d",
   "metadata": {},
   "source": [
    "Negative indexes can be used to access values from the end of a list, where `-1` will return the last value, `-2` the second to the last value, and so on:"
   ]
  },
  {
   "cell_type": "code",
   "execution_count": null,
   "id": "87954c1f",
   "metadata": {},
   "outputs": [],
   "source": [
    "letters = ['X', 'Y', 'Z']\n",
    "\n",
    "# The last item in a list is at index -1\n",
    "letters[-1]"
   ]
  },
  {
   "cell_type": "code",
   "execution_count": null,
   "id": "0dded194",
   "metadata": {},
   "outputs": [],
   "source": [
    "# The second-to-last item is at index -2\n",
    "letters[-2]\n"
   ]
  },
  {
   "cell_type": "code",
   "execution_count": null,
   "id": "4075425b",
   "metadata": {},
   "outputs": [],
   "source": [
    "# And so on...\n",
    "letters[-3]"
   ]
  },
  {
   "cell_type": "markdown",
   "id": "14d6c16e",
   "metadata": {},
   "source": [
    "## Updating Values\n",
    "\n",
    "Values in a `list` can be overwritten using using the index of the item and the assigment operator (`=`):"
   ]
  },
  {
   "cell_type": "code",
   "execution_count": null,
   "id": "716d9718",
   "metadata": {},
   "outputs": [],
   "source": [
    "animals = ['cow', 'dog', 'fish']\n",
    "animals[0] = 'cat'\n",
    "animals"
   ]
  },
  {
   "cell_type": "markdown",
   "id": "6db72736",
   "metadata": {},
   "source": [
    "Python lists are mutable, meaning the that they can be changed. Items can be added to a `list` using the `append` and `insert` methods and items can be removed using the `remove` method:"
   ]
  },
  {
   "cell_type": "code",
   "execution_count": null,
   "id": "a017c2b0",
   "metadata": {},
   "outputs": [],
   "source": [
    "change_me = [1, 2, 3, 4]\n",
    "change_me"
   ]
  },
  {
   "cell_type": "code",
   "execution_count": null,
   "id": "10caa3d8",
   "metadata": {},
   "outputs": [],
   "source": [
    "# Append 5 to end\n",
    "change_me.append(5)\n",
    "change_me"
   ]
  },
  {
   "cell_type": "code",
   "execution_count": null,
   "id": "886a0e4d",
   "metadata": {},
   "outputs": [],
   "source": [
    "# Insert 2.5 between 2 and 3 (i.e. after index 2)\n",
    "change_me.insert(2, 2.5)\n",
    "change_me"
   ]
  },
  {
   "cell_type": "code",
   "execution_count": null,
   "id": "a5b7b9b8",
   "metadata": {},
   "outputs": [],
   "source": [
    "# Remove the item with value of 2.5\n",
    "change_me.remove(2.5)\n",
    "change_me"
   ]
  },
  {
   "cell_type": "markdown",
   "id": "ec7aa300",
   "metadata": {},
   "source": [
    "## Slicing\n",
    "\n",
    "Slicing syntax can also be used to access subsets of values in lists and other objects. Here's a quick reminder of Python's slice syntax:\n",
    "\n",
    "A slice is defined like so: `[start:end]`\n",
    "\n",
    "Alternatively, specify a step as well like so: `[start:end:step]`\n",
    "\n",
    "The `start` or `end` parameter can be left off to indicate slicing from the beginning to the end, respectively.\n",
    "\n",
    "`[:end]` means to select a slice starting from the beginning of the array to the index specified.\n",
    "\n",
    "`[start:]` means to select a slice starting at the given index to the end of the array.\n",
    "\n",
    "`[:]` means to select all items."
   ]
  },
  {
   "cell_type": "code",
   "execution_count": null,
   "id": "ffea9b91",
   "metadata": {},
   "outputs": [],
   "source": [
    "slice_me = [1, 2, 3, 4, 5, 6, 7, 8, 9, 10]\n",
    "\n",
    "# Return all items\n",
    "slice_me[:]"
   ]
  },
  {
   "cell_type": "code",
   "execution_count": null,
   "id": "5ff68e6a",
   "metadata": {},
   "outputs": [],
   "source": [
    "# Access values from index 1 to, but not including, 7\n",
    "slice_me[1:7]"
   ]
  },
  {
   "cell_type": "code",
   "execution_count": null,
   "id": "c6657bc4",
   "metadata": {},
   "outputs": [],
   "source": [
    "# Access values starting at the beginning to index 5\n",
    "slice_me[:5]"
   ]
  },
  {
   "cell_type": "code",
   "execution_count": null,
   "id": "c0c58da4",
   "metadata": {},
   "outputs": [],
   "source": [
    "# Access values starting at index 3 to the end of the array\n",
    "slice_me[3:]"
   ]
  },
  {
   "cell_type": "code",
   "execution_count": null,
   "id": "a859a05d",
   "metadata": {},
   "outputs": [],
   "source": [
    "# Return everyother element from index 1 to 8\n",
    "slice_me[1:8:2]"
   ]
  },
  {
   "cell_type": "markdown",
   "id": "8307f7cc",
   "metadata": {},
   "source": [
    "# Tuples\n",
    "\n",
    "A `tuple` is similar to a `list`, but it can't be edited. The advantage of using a `tuple` is that it can be much more efficient than a `list`. Tuples are created like lists using either the `tuple` function or parenthesis like so:"
   ]
  },
  {
   "cell_type": "code",
   "execution_count": null,
   "id": "b540b0a8",
   "metadata": {},
   "outputs": [],
   "source": [
    "# Create a tuple using the tuple function\n",
    "states = tuple(('Ohio', 'New York', 'California'))\n",
    "states"
   ]
  },
  {
   "cell_type": "code",
   "execution_count": null,
   "id": "b63c9f96",
   "metadata": {},
   "outputs": [],
   "source": [
    "# Or create a tuple using the shorthand\n",
    "cities = ('Chicago', 'New York', 'Los Angeles')\n",
    "cities"
   ]
  },
  {
   "cell_type": "code",
   "execution_count": null,
   "id": "5e891262",
   "metadata": {},
   "outputs": [],
   "source": [
    "# A tuple with one item must have a comma in it like so\n",
    "capitols = ('Washington D.C.',)\n",
    "capitols"
   ]
  },
  {
   "cell_type": "markdown",
   "id": "a8e07e86",
   "metadata": {},
   "source": [
    "Just as with lists, items in tuples can be accessed using index notation:"
   ]
  },
  {
   "cell_type": "code",
   "execution_count": null,
   "id": "bfc01f74",
   "metadata": {},
   "outputs": [],
   "source": [
    "plants = ('tree', 'bush', 'flower')\n",
    "plants[2]"
   ]
  },
  {
   "cell_type": "markdown",
   "id": "6be0aec6",
   "metadata": {},
   "source": [
    "But the items cannot be overwritten and items cannot be added or removed from tuples. Attempting to do so will **result in an error**."
   ]
  },
  {
   "cell_type": "code",
   "execution_count": null,
   "id": "9d570f99",
   "metadata": {},
   "outputs": [],
   "source": [
    "sea_creatures = ('fish', 'dolphin', 'shark')\n",
    "\n",
    "# Trying to overwrite a value in a tuple will THROW AN ERROR\n",
    "sea_creatures[2] = 'whale'"
   ]
  },
  {
   "cell_type": "markdown",
   "id": "3d55e3ce",
   "metadata": {},
   "source": [
    "# Exercise"
   ]
  },
  {
   "cell_type": "code",
   "execution_count": null,
   "id": "092c7914",
   "metadata": {},
   "outputs": [],
   "source": [
    "planets = ['Mercury', 'Venus', 'Mars', 'Jupiter', 'Saturn', 'Neptune', 'Uranus', 'Pluto']\n",
    "\n",
    "# Write code here to add Earth to the list of planets in the correct position (between Venus and Mars)\n",
    "\n",
    "\n",
    "# Write code here to remove Pluto from the list of planets\n",
    "\n",
    "\n",
    "# This code checks the answer\n",
    "if 'Earth' not in planets:\n",
    "    print(f\"Can't find Earth in the list of planets: {planets}\")\n",
    "\n",
    "elif planets.index('Earth') != 2:\n",
    "    print(f\"Found Earth in the list, but it isn't in the right position: {planets}\")\n",
    "\n",
    "elif 'Pluto' in planets:\n",
    "    print(f\"Found Pluto in the list, it needs to be removed: {planets}\")\n",
    "\n",
    "else:\n",
    "    print(f\"You did it! The planets in our solar system are: {', '.join(planets)}\")\n"
   ]
  }
 ],
 "metadata": {
  "kernelspec": {
   "display_name": "Python 3 (ipykernel)",
   "language": "python",
   "name": "python3"
  },
  "language_info": {
   "codemirror_mode": {
    "name": "ipython",
    "version": 3
   },
   "file_extension": ".py",
   "mimetype": "text/x-python",
   "name": "python",
   "nbconvert_exporter": "python",
   "pygments_lexer": "ipython3",
   "version": "3.8.11"
  }
 },
 "nbformat": 4,
 "nbformat_minor": 5
}
